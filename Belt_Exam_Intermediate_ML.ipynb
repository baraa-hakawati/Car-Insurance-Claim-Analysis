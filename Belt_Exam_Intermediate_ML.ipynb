{
  "cells": [
    {
      "cell_type": "markdown",
      "metadata": {
        "id": "view-in-github",
        "colab_type": "text"
      },
      "source": [
        "<a href=\"https://colab.research.google.com/github/baraa-hakawati/Car-Insurance-Claim-Analysis/blob/main/Belt_Exam_Intermediate_ML.ipynb\" target=\"_parent\"><img src=\"https://colab.research.google.com/assets/colab-badge.svg\" alt=\"Open In Colab\"/></a>"
      ]
    },
    {
      "cell_type": "markdown",
      "metadata": {
        "id": "KiQX6XB6HJZF"
      },
      "source": [
        "# **Intermediate Machine Learining: Third Cohort Exam.**\n",
        "Baraa A. Hakawati"
      ]
    },
    {
      "cell_type": "markdown",
      "source": [
        "# **PART 1: CLUSTERING**"
      ],
      "metadata": {
        "id": "s9_yMmc26o_p"
      }
    },
    {
      "cell_type": "markdown",
      "metadata": {
        "id": "nNUumD7MHekl"
      },
      "source": [
        " ## **Data Loading and Inspection.**"
      ]
    },
    {
      "cell_type": "markdown",
      "metadata": {
        "id": "w5d86yFbJQWJ"
      },
      "source": [
        "### **Import Required Packages**"
      ]
    },
    {
      "cell_type": "code",
      "execution_count": null,
      "metadata": {
        "id": "YWXEV_fWHYJd"
      },
      "outputs": [],
      "source": [
        "import pandas as pd\n",
        "import matplotlib.pyplot as plt\n",
        "import seaborn as sns\n",
        "from sklearn.preprocessing import StandardScaler\n",
        "from sklearn.cluster import KMeans\n",
        "from sklearn.metrics import silhouette_score"
      ]
    },
    {
      "cell_type": "markdown",
      "metadata": {
        "id": "x-9W2FazJc1q"
      },
      "source": [
        "### **General Overview**"
      ]
    },
    {
      "cell_type": "code",
      "execution_count": null,
      "metadata": {
        "colab": {
          "base_uri": "https://localhost:8080/",
          "height": 498
        },
        "id": "BzcqDWP1HYL5",
        "outputId": "11d7798b-0fd4-4ed2-fd02-9eb56f68133a"
      },
      "outputs": [
        {
          "name": "stdout",
          "output_type": "stream",
          "text": [
            "<class 'pandas.core.frame.DataFrame'>\n",
            "RangeIndex: 19438 entries, 0 to 19437\n",
            "Data columns (total 9 columns):\n",
            " #   Column             Non-Null Count  Dtype\n",
            "---  ------             --------------  -----\n",
            " 0   Income             19438 non-null  int64\n",
            " 1   Age                19438 non-null  int64\n",
            " 2   Experience         19438 non-null  int64\n",
            " 3   Married            19438 non-null  int64\n",
            " 4   Owns_House         19438 non-null  int64\n",
            " 5   Owns_Car           19438 non-null  int64\n",
            " 6   CURRENT_JOB_YRS    19438 non-null  int64\n",
            " 7   CURRENT_HOUSE_YRS  19438 non-null  int64\n",
            " 8   Risk_Flag          19438 non-null  int64\n",
            "dtypes: int64(9)\n",
            "memory usage: 1.3 MB\n"
          ]
        },
        {
          "data": {
            "application/vnd.google.colaboratory.intrinsic+json": {
              "summary": "{\n  \"name\": \"df\",\n  \"rows\": 19438,\n  \"fields\": [\n    {\n      \"column\": \"Income\",\n      \"properties\": {\n        \"dtype\": \"number\",\n        \"std\": 2885391,\n        \"min\": 10310,\n        \"max\": 9999180,\n        \"num_unique_values\": 8326,\n        \"samples\": [\n          9846008,\n          5421502,\n          5385174\n        ],\n        \"semantic_type\": \"\",\n        \"description\": \"\"\n      }\n    },\n    {\n      \"column\": \"Age\",\n      \"properties\": {\n        \"dtype\": \"number\",\n        \"std\": 16,\n        \"min\": 21,\n        \"max\": 79,\n        \"num_unique_values\": 59,\n        \"samples\": [\n          56,\n          64,\n          38\n        ],\n        \"semantic_type\": \"\",\n        \"description\": \"\"\n      }\n    },\n    {\n      \"column\": \"Experience\",\n      \"properties\": {\n        \"dtype\": \"number\",\n        \"std\": 5,\n        \"min\": 0,\n        \"max\": 20,\n        \"num_unique_values\": 21,\n        \"samples\": [\n          8,\n          5,\n          0\n        ],\n        \"semantic_type\": \"\",\n        \"description\": \"\"\n      }\n    },\n    {\n      \"column\": \"Married\",\n      \"properties\": {\n        \"dtype\": \"number\",\n        \"std\": 0,\n        \"min\": 0,\n        \"max\": 1,\n        \"num_unique_values\": 2,\n        \"samples\": [\n          1,\n          0\n        ],\n        \"semantic_type\": \"\",\n        \"description\": \"\"\n      }\n    },\n    {\n      \"column\": \"Owns_House\",\n      \"properties\": {\n        \"dtype\": \"number\",\n        \"std\": 0,\n        \"min\": 0,\n        \"max\": 1,\n        \"num_unique_values\": 2,\n        \"samples\": [\n          1,\n          0\n        ],\n        \"semantic_type\": \"\",\n        \"description\": \"\"\n      }\n    },\n    {\n      \"column\": \"Owns_Car\",\n      \"properties\": {\n        \"dtype\": \"number\",\n        \"std\": 0,\n        \"min\": 0,\n        \"max\": 1,\n        \"num_unique_values\": 2,\n        \"samples\": [\n          1,\n          0\n        ],\n        \"semantic_type\": \"\",\n        \"description\": \"\"\n      }\n    },\n    {\n      \"column\": \"CURRENT_JOB_YRS\",\n      \"properties\": {\n        \"dtype\": \"number\",\n        \"std\": 3,\n        \"min\": 0,\n        \"max\": 14,\n        \"num_unique_values\": 15,\n        \"samples\": [\n          14,\n          12\n        ],\n        \"semantic_type\": \"\",\n        \"description\": \"\"\n      }\n    },\n    {\n      \"column\": \"CURRENT_HOUSE_YRS\",\n      \"properties\": {\n        \"dtype\": \"number\",\n        \"std\": 1,\n        \"min\": 10,\n        \"max\": 14,\n        \"num_unique_values\": 5,\n        \"samples\": [\n          14,\n          12\n        ],\n        \"semantic_type\": \"\",\n        \"description\": \"\"\n      }\n    },\n    {\n      \"column\": \"Risk_Flag\",\n      \"properties\": {\n        \"dtype\": \"number\",\n        \"std\": 0,\n        \"min\": 0,\n        \"max\": 1,\n        \"num_unique_values\": 2,\n        \"samples\": [\n          0,\n          1\n        ],\n        \"semantic_type\": \"\",\n        \"description\": \"\"\n      }\n    }\n  ]\n}",
              "type": "dataframe",
              "variable_name": "df"
            },
            "text/html": [
              "\n",
              "  <div id=\"df-07a8617d-794d-470b-82c8-941d041ec6f8\" class=\"colab-df-container\">\n",
              "    <div>\n",
              "<style scoped>\n",
              "    .dataframe tbody tr th:only-of-type {\n",
              "        vertical-align: middle;\n",
              "    }\n",
              "\n",
              "    .dataframe tbody tr th {\n",
              "        vertical-align: top;\n",
              "    }\n",
              "\n",
              "    .dataframe thead th {\n",
              "        text-align: right;\n",
              "    }\n",
              "</style>\n",
              "<table border=\"1\" class=\"dataframe\">\n",
              "  <thead>\n",
              "    <tr style=\"text-align: right;\">\n",
              "      <th></th>\n",
              "      <th>Income</th>\n",
              "      <th>Age</th>\n",
              "      <th>Experience</th>\n",
              "      <th>Married</th>\n",
              "      <th>Owns_House</th>\n",
              "      <th>Owns_Car</th>\n",
              "      <th>CURRENT_JOB_YRS</th>\n",
              "      <th>CURRENT_HOUSE_YRS</th>\n",
              "      <th>Risk_Flag</th>\n",
              "    </tr>\n",
              "  </thead>\n",
              "  <tbody>\n",
              "    <tr>\n",
              "      <th>0</th>\n",
              "      <td>3635824</td>\n",
              "      <td>56</td>\n",
              "      <td>8</td>\n",
              "      <td>0</td>\n",
              "      <td>0</td>\n",
              "      <td>0</td>\n",
              "      <td>8</td>\n",
              "      <td>13</td>\n",
              "      <td>1</td>\n",
              "    </tr>\n",
              "    <tr>\n",
              "      <th>1</th>\n",
              "      <td>3231341</td>\n",
              "      <td>47</td>\n",
              "      <td>6</td>\n",
              "      <td>1</td>\n",
              "      <td>0</td>\n",
              "      <td>0</td>\n",
              "      <td>6</td>\n",
              "      <td>14</td>\n",
              "      <td>0</td>\n",
              "    </tr>\n",
              "    <tr>\n",
              "      <th>2</th>\n",
              "      <td>7430695</td>\n",
              "      <td>59</td>\n",
              "      <td>8</td>\n",
              "      <td>0</td>\n",
              "      <td>0</td>\n",
              "      <td>0</td>\n",
              "      <td>8</td>\n",
              "      <td>10</td>\n",
              "      <td>0</td>\n",
              "    </tr>\n",
              "    <tr>\n",
              "      <th>3</th>\n",
              "      <td>8688710</td>\n",
              "      <td>47</td>\n",
              "      <td>1</td>\n",
              "      <td>0</td>\n",
              "      <td>0</td>\n",
              "      <td>0</td>\n",
              "      <td>1</td>\n",
              "      <td>10</td>\n",
              "      <td>0</td>\n",
              "    </tr>\n",
              "    <tr>\n",
              "      <th>4</th>\n",
              "      <td>2229190</td>\n",
              "      <td>21</td>\n",
              "      <td>11</td>\n",
              "      <td>0</td>\n",
              "      <td>0</td>\n",
              "      <td>0</td>\n",
              "      <td>9</td>\n",
              "      <td>11</td>\n",
              "      <td>0</td>\n",
              "    </tr>\n",
              "  </tbody>\n",
              "</table>\n",
              "</div>\n",
              "    <div class=\"colab-df-buttons\">\n",
              "\n",
              "  <div class=\"colab-df-container\">\n",
              "    <button class=\"colab-df-convert\" onclick=\"convertToInteractive('df-07a8617d-794d-470b-82c8-941d041ec6f8')\"\n",
              "            title=\"Convert this dataframe to an interactive table.\"\n",
              "            style=\"display:none;\">\n",
              "\n",
              "  <svg xmlns=\"http://www.w3.org/2000/svg\" height=\"24px\" viewBox=\"0 -960 960 960\">\n",
              "    <path d=\"M120-120v-720h720v720H120Zm60-500h600v-160H180v160Zm220 220h160v-160H400v160Zm0 220h160v-160H400v160ZM180-400h160v-160H180v160Zm440 0h160v-160H620v160ZM180-180h160v-160H180v160Zm440 0h160v-160H620v160Z\"/>\n",
              "  </svg>\n",
              "    </button>\n",
              "\n",
              "  <style>\n",
              "    .colab-df-container {\n",
              "      display:flex;\n",
              "      gap: 12px;\n",
              "    }\n",
              "\n",
              "    .colab-df-convert {\n",
              "      background-color: #E8F0FE;\n",
              "      border: none;\n",
              "      border-radius: 50%;\n",
              "      cursor: pointer;\n",
              "      display: none;\n",
              "      fill: #1967D2;\n",
              "      height: 32px;\n",
              "      padding: 0 0 0 0;\n",
              "      width: 32px;\n",
              "    }\n",
              "\n",
              "    .colab-df-convert:hover {\n",
              "      background-color: #E2EBFA;\n",
              "      box-shadow: 0px 1px 2px rgba(60, 64, 67, 0.3), 0px 1px 3px 1px rgba(60, 64, 67, 0.15);\n",
              "      fill: #174EA6;\n",
              "    }\n",
              "\n",
              "    .colab-df-buttons div {\n",
              "      margin-bottom: 4px;\n",
              "    }\n",
              "\n",
              "    [theme=dark] .colab-df-convert {\n",
              "      background-color: #3B4455;\n",
              "      fill: #D2E3FC;\n",
              "    }\n",
              "\n",
              "    [theme=dark] .colab-df-convert:hover {\n",
              "      background-color: #434B5C;\n",
              "      box-shadow: 0px 1px 3px 1px rgba(0, 0, 0, 0.15);\n",
              "      filter: drop-shadow(0px 1px 2px rgba(0, 0, 0, 0.3));\n",
              "      fill: #FFFFFF;\n",
              "    }\n",
              "  </style>\n",
              "\n",
              "    <script>\n",
              "      const buttonEl =\n",
              "        document.querySelector('#df-07a8617d-794d-470b-82c8-941d041ec6f8 button.colab-df-convert');\n",
              "      buttonEl.style.display =\n",
              "        google.colab.kernel.accessAllowed ? 'block' : 'none';\n",
              "\n",
              "      async function convertToInteractive(key) {\n",
              "        const element = document.querySelector('#df-07a8617d-794d-470b-82c8-941d041ec6f8');\n",
              "        const dataTable =\n",
              "          await google.colab.kernel.invokeFunction('convertToInteractive',\n",
              "                                                    [key], {});\n",
              "        if (!dataTable) return;\n",
              "\n",
              "        const docLinkHtml = 'Like what you see? Visit the ' +\n",
              "          '<a target=\"_blank\" href=https://colab.research.google.com/notebooks/data_table.ipynb>data table notebook</a>'\n",
              "          + ' to learn more about interactive tables.';\n",
              "        element.innerHTML = '';\n",
              "        dataTable['output_type'] = 'display_data';\n",
              "        await google.colab.output.renderOutput(dataTable, element);\n",
              "        const docLink = document.createElement('div');\n",
              "        docLink.innerHTML = docLinkHtml;\n",
              "        element.appendChild(docLink);\n",
              "      }\n",
              "    </script>\n",
              "  </div>\n",
              "\n",
              "\n",
              "    <div id=\"df-6ccf7ef6-7852-4697-8030-300be21d8bfa\">\n",
              "      <button class=\"colab-df-quickchart\" onclick=\"quickchart('df-6ccf7ef6-7852-4697-8030-300be21d8bfa')\"\n",
              "                title=\"Suggest charts\"\n",
              "                style=\"display:none;\">\n",
              "\n",
              "<svg xmlns=\"http://www.w3.org/2000/svg\" height=\"24px\"viewBox=\"0 0 24 24\"\n",
              "     width=\"24px\">\n",
              "    <g>\n",
              "        <path d=\"M19 3H5c-1.1 0-2 .9-2 2v14c0 1.1.9 2 2 2h14c1.1 0 2-.9 2-2V5c0-1.1-.9-2-2-2zM9 17H7v-7h2v7zm4 0h-2V7h2v10zm4 0h-2v-4h2v4z\"/>\n",
              "    </g>\n",
              "</svg>\n",
              "      </button>\n",
              "\n",
              "<style>\n",
              "  .colab-df-quickchart {\n",
              "      --bg-color: #E8F0FE;\n",
              "      --fill-color: #1967D2;\n",
              "      --hover-bg-color: #E2EBFA;\n",
              "      --hover-fill-color: #174EA6;\n",
              "      --disabled-fill-color: #AAA;\n",
              "      --disabled-bg-color: #DDD;\n",
              "  }\n",
              "\n",
              "  [theme=dark] .colab-df-quickchart {\n",
              "      --bg-color: #3B4455;\n",
              "      --fill-color: #D2E3FC;\n",
              "      --hover-bg-color: #434B5C;\n",
              "      --hover-fill-color: #FFFFFF;\n",
              "      --disabled-bg-color: #3B4455;\n",
              "      --disabled-fill-color: #666;\n",
              "  }\n",
              "\n",
              "  .colab-df-quickchart {\n",
              "    background-color: var(--bg-color);\n",
              "    border: none;\n",
              "    border-radius: 50%;\n",
              "    cursor: pointer;\n",
              "    display: none;\n",
              "    fill: var(--fill-color);\n",
              "    height: 32px;\n",
              "    padding: 0;\n",
              "    width: 32px;\n",
              "  }\n",
              "\n",
              "  .colab-df-quickchart:hover {\n",
              "    background-color: var(--hover-bg-color);\n",
              "    box-shadow: 0 1px 2px rgba(60, 64, 67, 0.3), 0 1px 3px 1px rgba(60, 64, 67, 0.15);\n",
              "    fill: var(--button-hover-fill-color);\n",
              "  }\n",
              "\n",
              "  .colab-df-quickchart-complete:disabled,\n",
              "  .colab-df-quickchart-complete:disabled:hover {\n",
              "    background-color: var(--disabled-bg-color);\n",
              "    fill: var(--disabled-fill-color);\n",
              "    box-shadow: none;\n",
              "  }\n",
              "\n",
              "  .colab-df-spinner {\n",
              "    border: 2px solid var(--fill-color);\n",
              "    border-color: transparent;\n",
              "    border-bottom-color: var(--fill-color);\n",
              "    animation:\n",
              "      spin 1s steps(1) infinite;\n",
              "  }\n",
              "\n",
              "  @keyframes spin {\n",
              "    0% {\n",
              "      border-color: transparent;\n",
              "      border-bottom-color: var(--fill-color);\n",
              "      border-left-color: var(--fill-color);\n",
              "    }\n",
              "    20% {\n",
              "      border-color: transparent;\n",
              "      border-left-color: var(--fill-color);\n",
              "      border-top-color: var(--fill-color);\n",
              "    }\n",
              "    30% {\n",
              "      border-color: transparent;\n",
              "      border-left-color: var(--fill-color);\n",
              "      border-top-color: var(--fill-color);\n",
              "      border-right-color: var(--fill-color);\n",
              "    }\n",
              "    40% {\n",
              "      border-color: transparent;\n",
              "      border-right-color: var(--fill-color);\n",
              "      border-top-color: var(--fill-color);\n",
              "    }\n",
              "    60% {\n",
              "      border-color: transparent;\n",
              "      border-right-color: var(--fill-color);\n",
              "    }\n",
              "    80% {\n",
              "      border-color: transparent;\n",
              "      border-right-color: var(--fill-color);\n",
              "      border-bottom-color: var(--fill-color);\n",
              "    }\n",
              "    90% {\n",
              "      border-color: transparent;\n",
              "      border-bottom-color: var(--fill-color);\n",
              "    }\n",
              "  }\n",
              "</style>\n",
              "\n",
              "      <script>\n",
              "        async function quickchart(key) {\n",
              "          const quickchartButtonEl =\n",
              "            document.querySelector('#' + key + ' button');\n",
              "          quickchartButtonEl.disabled = true;  // To prevent multiple clicks.\n",
              "          quickchartButtonEl.classList.add('colab-df-spinner');\n",
              "          try {\n",
              "            const charts = await google.colab.kernel.invokeFunction(\n",
              "                'suggestCharts', [key], {});\n",
              "          } catch (error) {\n",
              "            console.error('Error during call to suggestCharts:', error);\n",
              "          }\n",
              "          quickchartButtonEl.classList.remove('colab-df-spinner');\n",
              "          quickchartButtonEl.classList.add('colab-df-quickchart-complete');\n",
              "        }\n",
              "        (() => {\n",
              "          let quickchartButtonEl =\n",
              "            document.querySelector('#df-6ccf7ef6-7852-4697-8030-300be21d8bfa button');\n",
              "          quickchartButtonEl.style.display =\n",
              "            google.colab.kernel.accessAllowed ? 'block' : 'none';\n",
              "        })();\n",
              "      </script>\n",
              "    </div>\n",
              "\n",
              "    </div>\n",
              "  </div>\n"
            ],
            "text/plain": [
              "    Income  Age  Experience  Married  Owns_House  Owns_Car  CURRENT_JOB_YRS  \\\n",
              "0  3635824   56           8        0           0         0                8   \n",
              "1  3231341   47           6        1           0         0                6   \n",
              "2  7430695   59           8        0           0         0                8   \n",
              "3  8688710   47           1        0           0         0                1   \n",
              "4  2229190   21          11        0           0         0                9   \n",
              "\n",
              "   CURRENT_HOUSE_YRS  Risk_Flag  \n",
              "0                 13          1  \n",
              "1                 14          0  \n",
              "2                 10          0  \n",
              "3                 10          0  \n",
              "4                 11          0  "
            ]
          },
          "execution_count": 3,
          "metadata": {},
          "output_type": "execute_result"
        }
      ],
      "source": [
        "# Read the dataset\n",
        "path = '/content/drive/MyDrive/AXSOSACADEMY/03-DataEnrichment/loan_cluster_df.csv'\n",
        "df = pd.read_csv(path)\n",
        "# General info about the dataset\n",
        "df.info()\n",
        "# Display first 5 rows\n",
        "df.head()"
      ]
    },
    {
      "cell_type": "code",
      "execution_count": null,
      "metadata": {
        "colab": {
          "base_uri": "https://localhost:8080/"
        },
        "id": "pyjbCrUpHYN_",
        "outputId": "6b5d7542-7d43-423d-9546-d31dc2c99c38"
      },
      "outputs": [
        {
          "name": "stdout",
          "output_type": "stream",
          "text": [
            "The number of records within the dataset (rows) is : 19438\n",
            "The mumber of features within the dataset (columns) is: 9\n"
          ]
        }
      ],
      "source": [
        "# Display the number of rows and columns within the dataset\n",
        "print(f\"The number of records within the dataset (rows) is : {df.shape[0]}\")\n",
        "print(f\"The mumber of features within the dataset (columns) is: {df.shape[1]}\")"
      ]
    },
    {
      "cell_type": "markdown",
      "metadata": {
        "id": "OniPLkGAKor0"
      },
      "source": [
        "### **Missing Values**"
      ]
    },
    {
      "cell_type": "code",
      "execution_count": null,
      "metadata": {
        "colab": {
          "base_uri": "https://localhost:8080/",
          "height": 403
        },
        "id": "5CvrRDwFKqow",
        "outputId": "5fa1d6d8-a43e-4721-db81-b032dcdaf4eb"
      },
      "outputs": [
        {
          "name": "stdout",
          "output_type": "stream",
          "text": [
            "\n",
            "Missing values in each feature are:\n"
          ]
        },
        {
          "data": {
            "text/html": [
              "<div>\n",
              "<style scoped>\n",
              "    .dataframe tbody tr th:only-of-type {\n",
              "        vertical-align: middle;\n",
              "    }\n",
              "\n",
              "    .dataframe tbody tr th {\n",
              "        vertical-align: top;\n",
              "    }\n",
              "\n",
              "    .dataframe thead th {\n",
              "        text-align: right;\n",
              "    }\n",
              "</style>\n",
              "<table border=\"1\" class=\"dataframe\">\n",
              "  <thead>\n",
              "    <tr style=\"text-align: right;\">\n",
              "      <th></th>\n",
              "      <th>0</th>\n",
              "    </tr>\n",
              "  </thead>\n",
              "  <tbody>\n",
              "    <tr>\n",
              "      <th>Income</th>\n",
              "      <td>0</td>\n",
              "    </tr>\n",
              "    <tr>\n",
              "      <th>Age</th>\n",
              "      <td>0</td>\n",
              "    </tr>\n",
              "    <tr>\n",
              "      <th>Experience</th>\n",
              "      <td>0</td>\n",
              "    </tr>\n",
              "    <tr>\n",
              "      <th>Married</th>\n",
              "      <td>0</td>\n",
              "    </tr>\n",
              "    <tr>\n",
              "      <th>Owns_House</th>\n",
              "      <td>0</td>\n",
              "    </tr>\n",
              "    <tr>\n",
              "      <th>Owns_Car</th>\n",
              "      <td>0</td>\n",
              "    </tr>\n",
              "    <tr>\n",
              "      <th>CURRENT_JOB_YRS</th>\n",
              "      <td>0</td>\n",
              "    </tr>\n",
              "    <tr>\n",
              "      <th>CURRENT_HOUSE_YRS</th>\n",
              "      <td>0</td>\n",
              "    </tr>\n",
              "    <tr>\n",
              "      <th>Risk_Flag</th>\n",
              "      <td>0</td>\n",
              "    </tr>\n",
              "  </tbody>\n",
              "</table>\n",
              "</div><br><label><b>dtype:</b> int64</label>"
            ],
            "text/plain": [
              "Income               0\n",
              "Age                  0\n",
              "Experience           0\n",
              "Married              0\n",
              "Owns_House           0\n",
              "Owns_Car             0\n",
              "CURRENT_JOB_YRS      0\n",
              "CURRENT_HOUSE_YRS    0\n",
              "Risk_Flag            0\n",
              "dtype: int64"
            ]
          },
          "execution_count": 7,
          "metadata": {},
          "output_type": "execute_result"
        }
      ],
      "source": [
        "# Identify missing values\n",
        "print(\"\\nMissing values in each feature are:\")\n",
        "df.isnull().sum()"
      ]
    },
    {
      "cell_type": "markdown",
      "metadata": {
        "id": "kmoEuisHLAPP"
      },
      "source": [
        "### **Data duplication**"
      ]
    },
    {
      "cell_type": "code",
      "execution_count": null,
      "metadata": {
        "colab": {
          "base_uri": "https://localhost:8080/"
        },
        "id": "d6LEOuatKqrJ",
        "outputId": "efede7b7-e468-4c85-b47d-6b96f2902ed4"
      },
      "outputs": [
        {
          "name": "stdout",
          "output_type": "stream",
          "text": [
            "\n",
            "There are 10463 duplicated records within the data\n"
          ]
        }
      ],
      "source": [
        "# Check whether duplicates are included within the data\n",
        "print(f\"\\nThere are {df.duplicated().sum()} duplicated records within the data\")"
      ]
    },
    {
      "cell_type": "code",
      "execution_count": null,
      "metadata": {
        "colab": {
          "base_uri": "https://localhost:8080/"
        },
        "id": "gRNXwZakKqtR",
        "outputId": "da797dad-ec56-4f8d-f4f9-792480b5b0e0"
      },
      "outputs": [
        {
          "name": "stdout",
          "output_type": "stream",
          "text": [
            "\n",
            "There are 0 duplicated records within the data\n"
          ]
        }
      ],
      "source": [
        "# Removing duplicated records.\n",
        "df = df.drop_duplicates()\n",
        "print(f\"\\nThere are {df.duplicated().sum()} duplicated records within the data\")"
      ]
    },
    {
      "cell_type": "markdown",
      "metadata": {
        "id": "X21J4nyELprw"
      },
      "source": [
        "### **Unusual Data Points Identification**"
      ]
    },
    {
      "cell_type": "code",
      "execution_count": null,
      "metadata": {
        "colab": {
          "base_uri": "https://localhost:8080/",
          "height": 300
        },
        "id": "aAUEcuzFLiAX",
        "outputId": "b6c3cca8-6104-4665-bdce-36e623d30eaf"
      },
      "outputs": [
        {
          "data": {
            "application/vnd.google.colaboratory.intrinsic+json": {
              "summary": "{\n  \"name\": \"df\",\n  \"rows\": 8,\n  \"fields\": [\n    {\n      \"column\": \"Income\",\n      \"properties\": {\n        \"dtype\": \"number\",\n        \"std\": 3493398.916068412,\n        \"min\": 8975.0,\n        \"max\": 9999180.0,\n        \"num_unique_values\": 8,\n        \"samples\": [\n          5014217.112089137,\n          5003243.0,\n          8975.0\n        ],\n        \"semantic_type\": \"\",\n        \"description\": \"\"\n      }\n    },\n    {\n      \"column\": \"Age\",\n      \"properties\": {\n        \"dtype\": \"number\",\n        \"std\": 3157.2006820962038,\n        \"min\": 16.97370031803907,\n        \"max\": 8975.0,\n        \"num_unique_values\": 8,\n        \"samples\": [\n          50.0158217270195,\n          50.0,\n          8975.0\n        ],\n        \"semantic_type\": \"\",\n        \"description\": \"\"\n      }\n    },\n    {\n      \"column\": \"Experience\",\n      \"properties\": {\n        \"dtype\": \"number\",\n        \"std\": 3169.812093607972,\n        \"min\": 0.0,\n        \"max\": 8975.0,\n        \"num_unique_values\": 8,\n        \"samples\": [\n          10.037214484679666,\n          10.0,\n          8975.0\n        ],\n        \"semantic_type\": \"\",\n        \"description\": \"\"\n      }\n    },\n    {\n      \"column\": \"Married\",\n      \"properties\": {\n        \"dtype\": \"number\",\n        \"std\": 3173.0707325445096,\n        \"min\": 0.0,\n        \"max\": 8975.0,\n        \"num_unique_values\": 5,\n        \"samples\": [\n          0.10217270194986072,\n          1.0,\n          0.30289216408037906\n        ],\n        \"semantic_type\": \"\",\n        \"description\": \"\"\n      }\n    },\n    {\n      \"column\": \"Owns_House\",\n      \"properties\": {\n        \"dtype\": \"number\",\n        \"std\": 3173.077075367839,\n        \"min\": 0.0,\n        \"max\": 8975.0,\n        \"num_unique_values\": 5,\n        \"samples\": [\n          0.05381615598885794,\n          1.0,\n          0.22566712545414652\n        ],\n        \"semantic_type\": \"\",\n        \"description\": \"\"\n      }\n    },\n    {\n      \"column\": \"Owns_Car\",\n      \"properties\": {\n        \"dtype\": \"number\",\n        \"std\": 3173.002276500562,\n        \"min\": 0.0,\n        \"max\": 8975.0,\n        \"num_unique_values\": 5,\n        \"samples\": [\n          0.30161559888579387,\n          1.0,\n          0.45898486037358477\n        ],\n        \"semantic_type\": \"\",\n        \"description\": \"\"\n      }\n    },\n    {\n      \"column\": \"CURRENT_JOB_YRS\",\n      \"properties\": {\n        \"dtype\": \"number\",\n        \"std\": 3171.024762470543,\n        \"min\": 0.0,\n        \"max\": 8975.0,\n        \"num_unique_values\": 8,\n        \"samples\": [\n          6.328022284122563,\n          6.0,\n          8975.0\n        ],\n        \"semantic_type\": \"\",\n        \"description\": \"\"\n      }\n    },\n    {\n      \"column\": \"CURRENT_HOUSE_YRS\",\n      \"properties\": {\n        \"dtype\": \"number\",\n        \"std\": 3169.4362671678073,\n        \"min\": 1.4062649430431988,\n        \"max\": 8975.0,\n        \"num_unique_values\": 8,\n        \"samples\": [\n          12.004568245125348,\n          12.0,\n          8975.0\n        ],\n        \"semantic_type\": \"\",\n        \"description\": \"\"\n      }\n    },\n    {\n      \"column\": \"Risk_Flag\",\n      \"properties\": {\n        \"dtype\": \"number\",\n        \"std\": 3173.063969072282,\n        \"min\": 0.0,\n        \"max\": 8975.0,\n        \"num_unique_values\": 5,\n        \"samples\": [\n          0.1664623955431755,\n          1.0,\n          0.3725159433407657\n        ],\n        \"semantic_type\": \"\",\n        \"description\": \"\"\n      }\n    }\n  ]\n}",
              "type": "dataframe"
            },
            "text/html": [
              "\n",
              "  <div id=\"df-2bf27ffa-1777-4dd2-bcf5-2094d727c0c0\" class=\"colab-df-container\">\n",
              "    <div>\n",
              "<style scoped>\n",
              "    .dataframe tbody tr th:only-of-type {\n",
              "        vertical-align: middle;\n",
              "    }\n",
              "\n",
              "    .dataframe tbody tr th {\n",
              "        vertical-align: top;\n",
              "    }\n",
              "\n",
              "    .dataframe thead th {\n",
              "        text-align: right;\n",
              "    }\n",
              "</style>\n",
              "<table border=\"1\" class=\"dataframe\">\n",
              "  <thead>\n",
              "    <tr style=\"text-align: right;\">\n",
              "      <th></th>\n",
              "      <th>Income</th>\n",
              "      <th>Age</th>\n",
              "      <th>Experience</th>\n",
              "      <th>Married</th>\n",
              "      <th>Owns_House</th>\n",
              "      <th>Owns_Car</th>\n",
              "      <th>CURRENT_JOB_YRS</th>\n",
              "      <th>CURRENT_HOUSE_YRS</th>\n",
              "      <th>Risk_Flag</th>\n",
              "    </tr>\n",
              "  </thead>\n",
              "  <tbody>\n",
              "    <tr>\n",
              "      <th>count</th>\n",
              "      <td>8.975000e+03</td>\n",
              "      <td>8975.000000</td>\n",
              "      <td>8975.000000</td>\n",
              "      <td>8975.000000</td>\n",
              "      <td>8975.000000</td>\n",
              "      <td>8975.000000</td>\n",
              "      <td>8975.000000</td>\n",
              "      <td>8975.000000</td>\n",
              "      <td>8975.000000</td>\n",
              "    </tr>\n",
              "    <tr>\n",
              "      <th>mean</th>\n",
              "      <td>5.014217e+06</td>\n",
              "      <td>50.015822</td>\n",
              "      <td>10.037214</td>\n",
              "      <td>0.102173</td>\n",
              "      <td>0.053816</td>\n",
              "      <td>0.301616</td>\n",
              "      <td>6.328022</td>\n",
              "      <td>12.004568</td>\n",
              "      <td>0.166462</td>\n",
              "    </tr>\n",
              "    <tr>\n",
              "      <th>std</th>\n",
              "      <td>2.883422e+06</td>\n",
              "      <td>16.973700</td>\n",
              "      <td>6.002911</td>\n",
              "      <td>0.302892</td>\n",
              "      <td>0.225667</td>\n",
              "      <td>0.458985</td>\n",
              "      <td>3.639975</td>\n",
              "      <td>1.406265</td>\n",
              "      <td>0.372516</td>\n",
              "    </tr>\n",
              "    <tr>\n",
              "      <th>min</th>\n",
              "      <td>1.031000e+04</td>\n",
              "      <td>21.000000</td>\n",
              "      <td>0.000000</td>\n",
              "      <td>0.000000</td>\n",
              "      <td>0.000000</td>\n",
              "      <td>0.000000</td>\n",
              "      <td>0.000000</td>\n",
              "      <td>10.000000</td>\n",
              "      <td>0.000000</td>\n",
              "    </tr>\n",
              "    <tr>\n",
              "      <th>25%</th>\n",
              "      <td>2.521816e+06</td>\n",
              "      <td>35.000000</td>\n",
              "      <td>5.000000</td>\n",
              "      <td>0.000000</td>\n",
              "      <td>0.000000</td>\n",
              "      <td>0.000000</td>\n",
              "      <td>3.000000</td>\n",
              "      <td>11.000000</td>\n",
              "      <td>0.000000</td>\n",
              "    </tr>\n",
              "    <tr>\n",
              "      <th>50%</th>\n",
              "      <td>5.003243e+06</td>\n",
              "      <td>50.000000</td>\n",
              "      <td>10.000000</td>\n",
              "      <td>0.000000</td>\n",
              "      <td>0.000000</td>\n",
              "      <td>0.000000</td>\n",
              "      <td>6.000000</td>\n",
              "      <td>12.000000</td>\n",
              "      <td>0.000000</td>\n",
              "    </tr>\n",
              "    <tr>\n",
              "      <th>75%</th>\n",
              "      <td>7.497723e+06</td>\n",
              "      <td>65.000000</td>\n",
              "      <td>15.000000</td>\n",
              "      <td>0.000000</td>\n",
              "      <td>0.000000</td>\n",
              "      <td>1.000000</td>\n",
              "      <td>9.000000</td>\n",
              "      <td>13.000000</td>\n",
              "      <td>0.000000</td>\n",
              "    </tr>\n",
              "    <tr>\n",
              "      <th>max</th>\n",
              "      <td>9.999180e+06</td>\n",
              "      <td>79.000000</td>\n",
              "      <td>20.000000</td>\n",
              "      <td>1.000000</td>\n",
              "      <td>1.000000</td>\n",
              "      <td>1.000000</td>\n",
              "      <td>14.000000</td>\n",
              "      <td>14.000000</td>\n",
              "      <td>1.000000</td>\n",
              "    </tr>\n",
              "  </tbody>\n",
              "</table>\n",
              "</div>\n",
              "    <div class=\"colab-df-buttons\">\n",
              "\n",
              "  <div class=\"colab-df-container\">\n",
              "    <button class=\"colab-df-convert\" onclick=\"convertToInteractive('df-2bf27ffa-1777-4dd2-bcf5-2094d727c0c0')\"\n",
              "            title=\"Convert this dataframe to an interactive table.\"\n",
              "            style=\"display:none;\">\n",
              "\n",
              "  <svg xmlns=\"http://www.w3.org/2000/svg\" height=\"24px\" viewBox=\"0 -960 960 960\">\n",
              "    <path d=\"M120-120v-720h720v720H120Zm60-500h600v-160H180v160Zm220 220h160v-160H400v160Zm0 220h160v-160H400v160ZM180-400h160v-160H180v160Zm440 0h160v-160H620v160ZM180-180h160v-160H180v160Zm440 0h160v-160H620v160Z\"/>\n",
              "  </svg>\n",
              "    </button>\n",
              "\n",
              "  <style>\n",
              "    .colab-df-container {\n",
              "      display:flex;\n",
              "      gap: 12px;\n",
              "    }\n",
              "\n",
              "    .colab-df-convert {\n",
              "      background-color: #E8F0FE;\n",
              "      border: none;\n",
              "      border-radius: 50%;\n",
              "      cursor: pointer;\n",
              "      display: none;\n",
              "      fill: #1967D2;\n",
              "      height: 32px;\n",
              "      padding: 0 0 0 0;\n",
              "      width: 32px;\n",
              "    }\n",
              "\n",
              "    .colab-df-convert:hover {\n",
              "      background-color: #E2EBFA;\n",
              "      box-shadow: 0px 1px 2px rgba(60, 64, 67, 0.3), 0px 1px 3px 1px rgba(60, 64, 67, 0.15);\n",
              "      fill: #174EA6;\n",
              "    }\n",
              "\n",
              "    .colab-df-buttons div {\n",
              "      margin-bottom: 4px;\n",
              "    }\n",
              "\n",
              "    [theme=dark] .colab-df-convert {\n",
              "      background-color: #3B4455;\n",
              "      fill: #D2E3FC;\n",
              "    }\n",
              "\n",
              "    [theme=dark] .colab-df-convert:hover {\n",
              "      background-color: #434B5C;\n",
              "      box-shadow: 0px 1px 3px 1px rgba(0, 0, 0, 0.15);\n",
              "      filter: drop-shadow(0px 1px 2px rgba(0, 0, 0, 0.3));\n",
              "      fill: #FFFFFF;\n",
              "    }\n",
              "  </style>\n",
              "\n",
              "    <script>\n",
              "      const buttonEl =\n",
              "        document.querySelector('#df-2bf27ffa-1777-4dd2-bcf5-2094d727c0c0 button.colab-df-convert');\n",
              "      buttonEl.style.display =\n",
              "        google.colab.kernel.accessAllowed ? 'block' : 'none';\n",
              "\n",
              "      async function convertToInteractive(key) {\n",
              "        const element = document.querySelector('#df-2bf27ffa-1777-4dd2-bcf5-2094d727c0c0');\n",
              "        const dataTable =\n",
              "          await google.colab.kernel.invokeFunction('convertToInteractive',\n",
              "                                                    [key], {});\n",
              "        if (!dataTable) return;\n",
              "\n",
              "        const docLinkHtml = 'Like what you see? Visit the ' +\n",
              "          '<a target=\"_blank\" href=https://colab.research.google.com/notebooks/data_table.ipynb>data table notebook</a>'\n",
              "          + ' to learn more about interactive tables.';\n",
              "        element.innerHTML = '';\n",
              "        dataTable['output_type'] = 'display_data';\n",
              "        await google.colab.output.renderOutput(dataTable, element);\n",
              "        const docLink = document.createElement('div');\n",
              "        docLink.innerHTML = docLinkHtml;\n",
              "        element.appendChild(docLink);\n",
              "      }\n",
              "    </script>\n",
              "  </div>\n",
              "\n",
              "\n",
              "    <div id=\"df-f9032094-1e42-455e-8e53-7417a594f437\">\n",
              "      <button class=\"colab-df-quickchart\" onclick=\"quickchart('df-f9032094-1e42-455e-8e53-7417a594f437')\"\n",
              "                title=\"Suggest charts\"\n",
              "                style=\"display:none;\">\n",
              "\n",
              "<svg xmlns=\"http://www.w3.org/2000/svg\" height=\"24px\"viewBox=\"0 0 24 24\"\n",
              "     width=\"24px\">\n",
              "    <g>\n",
              "        <path d=\"M19 3H5c-1.1 0-2 .9-2 2v14c0 1.1.9 2 2 2h14c1.1 0 2-.9 2-2V5c0-1.1-.9-2-2-2zM9 17H7v-7h2v7zm4 0h-2V7h2v10zm4 0h-2v-4h2v4z\"/>\n",
              "    </g>\n",
              "</svg>\n",
              "      </button>\n",
              "\n",
              "<style>\n",
              "  .colab-df-quickchart {\n",
              "      --bg-color: #E8F0FE;\n",
              "      --fill-color: #1967D2;\n",
              "      --hover-bg-color: #E2EBFA;\n",
              "      --hover-fill-color: #174EA6;\n",
              "      --disabled-fill-color: #AAA;\n",
              "      --disabled-bg-color: #DDD;\n",
              "  }\n",
              "\n",
              "  [theme=dark] .colab-df-quickchart {\n",
              "      --bg-color: #3B4455;\n",
              "      --fill-color: #D2E3FC;\n",
              "      --hover-bg-color: #434B5C;\n",
              "      --hover-fill-color: #FFFFFF;\n",
              "      --disabled-bg-color: #3B4455;\n",
              "      --disabled-fill-color: #666;\n",
              "  }\n",
              "\n",
              "  .colab-df-quickchart {\n",
              "    background-color: var(--bg-color);\n",
              "    border: none;\n",
              "    border-radius: 50%;\n",
              "    cursor: pointer;\n",
              "    display: none;\n",
              "    fill: var(--fill-color);\n",
              "    height: 32px;\n",
              "    padding: 0;\n",
              "    width: 32px;\n",
              "  }\n",
              "\n",
              "  .colab-df-quickchart:hover {\n",
              "    background-color: var(--hover-bg-color);\n",
              "    box-shadow: 0 1px 2px rgba(60, 64, 67, 0.3), 0 1px 3px 1px rgba(60, 64, 67, 0.15);\n",
              "    fill: var(--button-hover-fill-color);\n",
              "  }\n",
              "\n",
              "  .colab-df-quickchart-complete:disabled,\n",
              "  .colab-df-quickchart-complete:disabled:hover {\n",
              "    background-color: var(--disabled-bg-color);\n",
              "    fill: var(--disabled-fill-color);\n",
              "    box-shadow: none;\n",
              "  }\n",
              "\n",
              "  .colab-df-spinner {\n",
              "    border: 2px solid var(--fill-color);\n",
              "    border-color: transparent;\n",
              "    border-bottom-color: var(--fill-color);\n",
              "    animation:\n",
              "      spin 1s steps(1) infinite;\n",
              "  }\n",
              "\n",
              "  @keyframes spin {\n",
              "    0% {\n",
              "      border-color: transparent;\n",
              "      border-bottom-color: var(--fill-color);\n",
              "      border-left-color: var(--fill-color);\n",
              "    }\n",
              "    20% {\n",
              "      border-color: transparent;\n",
              "      border-left-color: var(--fill-color);\n",
              "      border-top-color: var(--fill-color);\n",
              "    }\n",
              "    30% {\n",
              "      border-color: transparent;\n",
              "      border-left-color: var(--fill-color);\n",
              "      border-top-color: var(--fill-color);\n",
              "      border-right-color: var(--fill-color);\n",
              "    }\n",
              "    40% {\n",
              "      border-color: transparent;\n",
              "      border-right-color: var(--fill-color);\n",
              "      border-top-color: var(--fill-color);\n",
              "    }\n",
              "    60% {\n",
              "      border-color: transparent;\n",
              "      border-right-color: var(--fill-color);\n",
              "    }\n",
              "    80% {\n",
              "      border-color: transparent;\n",
              "      border-right-color: var(--fill-color);\n",
              "      border-bottom-color: var(--fill-color);\n",
              "    }\n",
              "    90% {\n",
              "      border-color: transparent;\n",
              "      border-bottom-color: var(--fill-color);\n",
              "    }\n",
              "  }\n",
              "</style>\n",
              "\n",
              "      <script>\n",
              "        async function quickchart(key) {\n",
              "          const quickchartButtonEl =\n",
              "            document.querySelector('#' + key + ' button');\n",
              "          quickchartButtonEl.disabled = true;  // To prevent multiple clicks.\n",
              "          quickchartButtonEl.classList.add('colab-df-spinner');\n",
              "          try {\n",
              "            const charts = await google.colab.kernel.invokeFunction(\n",
              "                'suggestCharts', [key], {});\n",
              "          } catch (error) {\n",
              "            console.error('Error during call to suggestCharts:', error);\n",
              "          }\n",
              "          quickchartButtonEl.classList.remove('colab-df-spinner');\n",
              "          quickchartButtonEl.classList.add('colab-df-quickchart-complete');\n",
              "        }\n",
              "        (() => {\n",
              "          let quickchartButtonEl =\n",
              "            document.querySelector('#df-f9032094-1e42-455e-8e53-7417a594f437 button');\n",
              "          quickchartButtonEl.style.display =\n",
              "            google.colab.kernel.accessAllowed ? 'block' : 'none';\n",
              "        })();\n",
              "      </script>\n",
              "    </div>\n",
              "\n",
              "    </div>\n",
              "  </div>\n"
            ],
            "text/plain": [
              "             Income          Age   Experience      Married   Owns_House  \\\n",
              "count  8.975000e+03  8975.000000  8975.000000  8975.000000  8975.000000   \n",
              "mean   5.014217e+06    50.015822    10.037214     0.102173     0.053816   \n",
              "std    2.883422e+06    16.973700     6.002911     0.302892     0.225667   \n",
              "min    1.031000e+04    21.000000     0.000000     0.000000     0.000000   \n",
              "25%    2.521816e+06    35.000000     5.000000     0.000000     0.000000   \n",
              "50%    5.003243e+06    50.000000    10.000000     0.000000     0.000000   \n",
              "75%    7.497723e+06    65.000000    15.000000     0.000000     0.000000   \n",
              "max    9.999180e+06    79.000000    20.000000     1.000000     1.000000   \n",
              "\n",
              "          Owns_Car  CURRENT_JOB_YRS  CURRENT_HOUSE_YRS    Risk_Flag  \n",
              "count  8975.000000      8975.000000        8975.000000  8975.000000  \n",
              "mean      0.301616         6.328022          12.004568     0.166462  \n",
              "std       0.458985         3.639975           1.406265     0.372516  \n",
              "min       0.000000         0.000000          10.000000     0.000000  \n",
              "25%       0.000000         3.000000          11.000000     0.000000  \n",
              "50%       0.000000         6.000000          12.000000     0.000000  \n",
              "75%       1.000000         9.000000          13.000000     0.000000  \n",
              "max       1.000000        14.000000          14.000000     1.000000  "
            ]
          },
          "execution_count": 12,
          "metadata": {},
          "output_type": "execute_result"
        }
      ],
      "source": [
        "df.describe() # Display the overall stats for each feature to determine unusual data points."
      ]
    },
    {
      "cell_type": "markdown",
      "metadata": {
        "id": "6jyFB4lBPe3j"
      },
      "source": [
        "## **Data Modeling**"
      ]
    },
    {
      "cell_type": "code",
      "execution_count": null,
      "metadata": {
        "id": "RxTrOOr1PhLs"
      },
      "outputs": [],
      "source": [
        "# First, we have to drop the target column for clustering.......\n",
        "X = df.drop(columns=['Risk_Flag'])"
      ]
    },
    {
      "cell_type": "code",
      "execution_count": null,
      "metadata": {
        "id": "J6CXbqGaP1sR"
      },
      "outputs": [],
      "source": [
        "# Now, let's standardize the features.........\n",
        "scaler = StandardScaler()\n",
        "X_scaled = scaler.fit_transform(X)"
      ]
    },
    {
      "cell_type": "code",
      "execution_count": null,
      "metadata": {
        "id": "Rv3QpArrP1uW"
      },
      "outputs": [],
      "source": [
        "# As required, let's determine the optimal clusters using Elbow and Silhouette methods..................\n",
        "inertia = []\n",
        "silhouette_scores = []\n",
        "K_range = range(2, 11)"
      ]
    },
    {
      "cell_type": "code",
      "execution_count": null,
      "metadata": {
        "id": "b8UGUucLP1w5"
      },
      "outputs": [],
      "source": [
        "# Let's looping together :) ..............\n",
        "for k in K_range:\n",
        "    kmeans = KMeans(n_clusters=k, random_state=42, n_init=10)\n",
        "    kmeans.fit(X_scaled)\n",
        "    inertia.append(kmeans.inertia_)\n",
        "    silhouette_scores.append(silhouette_score(X_scaled, kmeans.labels_))"
      ]
    },
    {
      "cell_type": "code",
      "execution_count": null,
      "metadata": {
        "colab": {
          "base_uri": "https://localhost:8080/",
          "height": 507
        },
        "id": "KPZDFfR0P1z1",
        "outputId": "02c075e7-59bc-4fc3-d72e-a7f2c77c2cb9"
      },
      "outputs": [
        {
          "data": {
            "image/png": "[encoded data removed]",
            "text/plain": [
              "<Figure size 1200x500 with 2 Axes>"
            ]
          },
          "metadata": {},
          "output_type": "display_data"
        }
      ],
      "source": [
        "# Let's plotting Elbow and Silhouette dude...........\n",
        "plt.figure(figsize=(12, 5)) # Our cancas :)\n",
        "# Elbow Method'\n",
        "plt.subplot(1, 2, 1)\n",
        "plt.plot(K_range, inertia, marker='o')\n",
        "plt.title('Elbow Method')\n",
        "plt.xlabel('Number of Clusters')\n",
        "plt.ylabel('Inertia')\n",
        "# Silhouette Score\n",
        "plt.subplot(1, 2, 2)\n",
        "plt.plot(K_range, silhouette_scores, marker='o', color='green')\n",
        "plt.title('Silhouette Score')\n",
        "plt.xlabel('Number of Clusters')\n",
        "plt.ylabel('Silhouette Score')\n",
        "# Display.............\n",
        "plt.tight_layout()\n",
        "plt.show()"
      ]
    },
    {
      "cell_type": "code",
      "execution_count": null,
      "metadata": {
        "id": "CQyb-IRNP12G"
      },
      "outputs": [],
      "source": [
        "# We Choose our optimal number of clusters k=3 according to Elbow method :)...........\n",
        "optimal_k = 3\n",
        "kmeans = KMeans(n_clusters=optimal_k, random_state=42, n_init=10)\n",
        "df['Cluster'] = kmeans.fit_predict(X_scaled)"
      ]
    },
    {
      "cell_type": "code",
      "execution_count": null,
      "metadata": {
        "colab": {
          "base_uri": "https://localhost:8080/",
          "height": 175
        },
        "id": "00ckjGvAP13w",
        "outputId": "2895f9ef-c124-4ac6-ddb0-f6f0982ea8e8"
      },
      "outputs": [
        {
          "data": {
            "application/vnd.google.colaboratory.intrinsic+json": {
              "summary": "{\n  \"name\": \"cluster_summary\",\n  \"rows\": 3,\n  \"fields\": [\n    {\n      \"column\": \"Cluster\",\n      \"properties\": {\n        \"dtype\": \"int32\",\n        \"num_unique_values\": 3,\n        \"samples\": [\n          0,\n          1,\n          2\n        ],\n        \"semantic_type\": \"\",\n        \"description\": \"\"\n      }\n    },\n    {\n      \"column\": \"Income\",\n      \"properties\": {\n        \"dtype\": \"number\",\n        \"std\": 42305.09624922101,\n        \"min\": 5003985.38,\n        \"max\": 5082334.23,\n        \"num_unique_values\": 3,\n        \"samples\": [\n          5082334.23,\n          5015496.53,\n          5003985.38\n        ],\n        \"semantic_type\": \"\",\n        \"description\": \"\"\n      }\n    },\n    {\n      \"column\": \"Age\",\n      \"properties\": {\n        \"dtype\": \"number\",\n        \"std\": 0.7571657678474369,\n        \"min\": 49.76,\n        \"max\": 51.23,\n        \"num_unique_values\": 3,\n        \"samples\": [\n          51.23,\n          49.76,\n          50.18\n        ],\n        \"semantic_type\": \"\",\n        \"description\": \"\"\n      }\n    },\n    {\n      \"column\": \"Experience\",\n      \"properties\": {\n        \"dtype\": \"number\",\n        \"std\": 5.031265579686023,\n        \"min\": 4.49,\n        \"max\": 14.49,\n        \"num_unique_values\": 3,\n        \"samples\": [\n          10.46,\n          14.49,\n          4.49\n        ],\n        \"semantic_type\": \"\",\n        \"description\": \"\"\n      }\n    },\n    {\n      \"column\": \"Married\",\n      \"properties\": {\n        \"dtype\": \"number\",\n        \"std\": 0.011547005383792516,\n        \"min\": 0.08,\n        \"max\": 0.1,\n        \"num_unique_values\": 2,\n        \"samples\": [\n          0.1,\n          0.08\n        ],\n        \"semantic_type\": \"\",\n        \"description\": \"\"\n      }\n    },\n    {\n      \"column\": \"Owns_House\",\n      \"properties\": {\n        \"dtype\": \"number\",\n        \"std\": 0.5773502691896258,\n        \"min\": 0.0,\n        \"max\": 1.0,\n        \"num_unique_values\": 2,\n        \"samples\": [\n          0.0,\n          1.0\n        ],\n        \"semantic_type\": \"\",\n        \"description\": \"\"\n      }\n    },\n    {\n      \"column\": \"Owns_Car\",\n      \"properties\": {\n        \"dtype\": \"number\",\n        \"std\": 0.005773502691896262,\n        \"min\": 0.29,\n        \"max\": 0.3,\n        \"num_unique_values\": 2,\n        \"samples\": [\n          0.3,\n          0.29\n        ],\n        \"semantic_type\": \"\",\n        \"description\": \"\"\n      }\n    },\n    {\n      \"column\": \"CURRENT_JOB_YRS\",\n      \"properties\": {\n        \"dtype\": \"number\",\n        \"std\": 2.5669437079920545,\n        \"min\": 3.5,\n        \"max\": 8.6,\n        \"num_unique_values\": 3,\n        \"samples\": [\n          6.56,\n          8.6\n        ],\n        \"semantic_type\": \"\",\n        \"description\": \"\"\n      }\n    },\n    {\n      \"column\": \"CURRENT_HOUSE_YRS\",\n      \"properties\": {\n        \"dtype\": \"number\",\n        \"std\": 0.06429100507328601,\n        \"min\": 11.99,\n        \"max\": 12.11,\n        \"num_unique_values\": 3,\n        \"samples\": [\n          12.11,\n          12.01\n        ],\n        \"semantic_type\": \"\",\n        \"description\": \"\"\n      }\n    },\n    {\n      \"column\": \"Risk_Flag\",\n      \"properties\": {\n        \"dtype\": \"number\",\n        \"std\": 0.005773502691896262,\n        \"min\": 0.16,\n        \"max\": 0.17,\n        \"num_unique_values\": 2,\n        \"samples\": [\n          0.16,\n          0.17\n        ],\n        \"semantic_type\": \"\",\n        \"description\": \"\"\n      }\n    }\n  ]\n}",
              "type": "dataframe",
              "variable_name": "cluster_summary"
            },
            "text/html": [
              "\n",
              "  <div id=\"df-9246c185-26d1-4947-9a47-4b9d3c1aca09\" class=\"colab-df-container\">\n",
              "    <div>\n",
              "<style scoped>\n",
              "    .dataframe tbody tr th:only-of-type {\n",
              "        vertical-align: middle;\n",
              "    }\n",
              "\n",
              "    .dataframe tbody tr th {\n",
              "        vertical-align: top;\n",
              "    }\n",
              "\n",
              "    .dataframe thead th {\n",
              "        text-align: right;\n",
              "    }\n",
              "</style>\n",
              "<table border=\"1\" class=\"dataframe\">\n",
              "  <thead>\n",
              "    <tr style=\"text-align: right;\">\n",
              "      <th></th>\n",
              "      <th>Income</th>\n",
              "      <th>Age</th>\n",
              "      <th>Experience</th>\n",
              "      <th>Married</th>\n",
              "      <th>Owns_House</th>\n",
              "      <th>Owns_Car</th>\n",
              "      <th>CURRENT_JOB_YRS</th>\n",
              "      <th>CURRENT_HOUSE_YRS</th>\n",
              "      <th>Risk_Flag</th>\n",
              "    </tr>\n",
              "    <tr>\n",
              "      <th>Cluster</th>\n",
              "      <th></th>\n",
              "      <th></th>\n",
              "      <th></th>\n",
              "      <th></th>\n",
              "      <th></th>\n",
              "      <th></th>\n",
              "      <th></th>\n",
              "      <th></th>\n",
              "      <th></th>\n",
              "    </tr>\n",
              "  </thead>\n",
              "  <tbody>\n",
              "    <tr>\n",
              "      <th>0</th>\n",
              "      <td>5082334.23</td>\n",
              "      <td>51.23</td>\n",
              "      <td>10.46</td>\n",
              "      <td>0.08</td>\n",
              "      <td>1.0</td>\n",
              "      <td>0.29</td>\n",
              "      <td>6.56</td>\n",
              "      <td>12.11</td>\n",
              "      <td>0.17</td>\n",
              "    </tr>\n",
              "    <tr>\n",
              "      <th>1</th>\n",
              "      <td>5015496.53</td>\n",
              "      <td>49.76</td>\n",
              "      <td>14.49</td>\n",
              "      <td>0.10</td>\n",
              "      <td>0.0</td>\n",
              "      <td>0.30</td>\n",
              "      <td>8.60</td>\n",
              "      <td>12.01</td>\n",
              "      <td>0.16</td>\n",
              "    </tr>\n",
              "    <tr>\n",
              "      <th>2</th>\n",
              "      <td>5003985.38</td>\n",
              "      <td>50.18</td>\n",
              "      <td>4.49</td>\n",
              "      <td>0.10</td>\n",
              "      <td>0.0</td>\n",
              "      <td>0.30</td>\n",
              "      <td>3.50</td>\n",
              "      <td>11.99</td>\n",
              "      <td>0.17</td>\n",
              "    </tr>\n",
              "  </tbody>\n",
              "</table>\n",
              "</div>\n",
              "    <div class=\"colab-df-buttons\">\n",
              "\n",
              "  <div class=\"colab-df-container\">\n",
              "    <button class=\"colab-df-convert\" onclick=\"convertToInteractive('df-9246c185-26d1-4947-9a47-4b9d3c1aca09')\"\n",
              "            title=\"Convert this dataframe to an interactive table.\"\n",
              "            style=\"display:none;\">\n",
              "\n",
              "  <svg xmlns=\"http://www.w3.org/2000/svg\" height=\"24px\" viewBox=\"0 -960 960 960\">\n",
              "    <path d=\"M120-120v-720h720v720H120Zm60-500h600v-160H180v160Zm220 220h160v-160H400v160Zm0 220h160v-160H400v160ZM180-400h160v-160H180v160Zm440 0h160v-160H620v160ZM180-180h160v-160H180v160Zm440 0h160v-160H620v160Z\"/>\n",
              "  </svg>\n",
              "    </button>\n",
              "\n",
              "  <style>\n",
              "    .colab-df-container {\n",
              "      display:flex;\n",
              "      gap: 12px;\n",
              "    }\n",
              "\n",
              "    .colab-df-convert {\n",
              "      background-color: #E8F0FE;\n",
              "      border: none;\n",
              "      border-radius: 50%;\n",
              "      cursor: pointer;\n",
              "      display: none;\n",
              "      fill: #1967D2;\n",
              "      height: 32px;\n",
              "      padding: 0 0 0 0;\n",
              "      width: 32px;\n",
              "    }\n",
              "\n",
              "    .colab-df-convert:hover {\n",
              "      background-color: #E2EBFA;\n",
              "      box-shadow: 0px 1px 2px rgba(60, 64, 67, 0.3), 0px 1px 3px 1px rgba(60, 64, 67, 0.15);\n",
              "      fill: #174EA6;\n",
              "    }\n",
              "\n",
              "    .colab-df-buttons div {\n",
              "      margin-bottom: 4px;\n",
              "    }\n",
              "\n",
              "    [theme=dark] .colab-df-convert {\n",
              "      background-color: #3B4455;\n",
              "      fill: #D2E3FC;\n",
              "    }\n",
              "\n",
              "    [theme=dark] .colab-df-convert:hover {\n",
              "      background-color: #434B5C;\n",
              "      box-shadow: 0px 1px 3px 1px rgba(0, 0, 0, 0.15);\n",
              "      filter: drop-shadow(0px 1px 2px rgba(0, 0, 0, 0.3));\n",
              "      fill: #FFFFFF;\n",
              "    }\n",
              "  </style>\n",
              "\n",
              "    <script>\n",
              "      const buttonEl =\n",
              "        document.querySelector('#df-9246c185-26d1-4947-9a47-4b9d3c1aca09 button.colab-df-convert');\n",
              "      buttonEl.style.display =\n",
              "        google.colab.kernel.accessAllowed ? 'block' : 'none';\n",
              "\n",
              "      async function convertToInteractive(key) {\n",
              "        const element = document.querySelector('#df-9246c185-26d1-4947-9a47-4b9d3c1aca09');\n",
              "        const dataTable =\n",
              "          await google.colab.kernel.invokeFunction('convertToInteractive',\n",
              "                                                    [key], {});\n",
              "        if (!dataTable) return;\n",
              "\n",
              "        const docLinkHtml = 'Like what you see? Visit the ' +\n",
              "          '<a target=\"_blank\" href=https://colab.research.google.com/notebooks/data_table.ipynb>data table notebook</a>'\n",
              "          + ' to learn more about interactive tables.';\n",
              "        element.innerHTML = '';\n",
              "        dataTable['output_type'] = 'display_data';\n",
              "        await google.colab.output.renderOutput(dataTable, element);\n",
              "        const docLink = document.createElement('div');\n",
              "        docLink.innerHTML = docLinkHtml;\n",
              "        element.appendChild(docLink);\n",
              "      }\n",
              "    </script>\n",
              "  </div>\n",
              "\n",
              "\n",
              "    <div id=\"df-33089bd4-7b6f-4f8c-960f-e0be8b47619d\">\n",
              "      <button class=\"colab-df-quickchart\" onclick=\"quickchart('df-33089bd4-7b6f-4f8c-960f-e0be8b47619d')\"\n",
              "                title=\"Suggest charts\"\n",
              "                style=\"display:none;\">\n",
              "\n",
              "<svg xmlns=\"http://www.w3.org/2000/svg\" height=\"24px\"viewBox=\"0 0 24 24\"\n",
              "     width=\"24px\">\n",
              "    <g>\n",
              "        <path d=\"M19 3H5c-1.1 0-2 .9-2 2v14c0 1.1.9 2 2 2h14c1.1 0 2-.9 2-2V5c0-1.1-.9-2-2-2zM9 17H7v-7h2v7zm4 0h-2V7h2v10zm4 0h-2v-4h2v4z\"/>\n",
              "    </g>\n",
              "</svg>\n",
              "      </button>\n",
              "\n",
              "<style>\n",
              "  .colab-df-quickchart {\n",
              "      --bg-color: #E8F0FE;\n",
              "      --fill-color: #1967D2;\n",
              "      --hover-bg-color: #E2EBFA;\n",
              "      --hover-fill-color: #174EA6;\n",
              "      --disabled-fill-color: #AAA;\n",
              "      --disabled-bg-color: #DDD;\n",
              "  }\n",
              "\n",
              "  [theme=dark] .colab-df-quickchart {\n",
              "      --bg-color: #3B4455;\n",
              "      --fill-color: #D2E3FC;\n",
              "      --hover-bg-color: #434B5C;\n",
              "      --hover-fill-color: #FFFFFF;\n",
              "      --disabled-bg-color: #3B4455;\n",
              "      --disabled-fill-color: #666;\n",
              "  }\n",
              "\n",
              "  .colab-df-quickchart {\n",
              "    background-color: var(--bg-color);\n",
              "    border: none;\n",
              "    border-radius: 50%;\n",
              "    cursor: pointer;\n",
              "    display: none;\n",
              "    fill: var(--fill-color);\n",
              "    height: 32px;\n",
              "    padding: 0;\n",
              "    width: 32px;\n",
              "  }\n",
              "\n",
              "  .colab-df-quickchart:hover {\n",
              "    background-color: var(--hover-bg-color);\n",
              "    box-shadow: 0 1px 2px rgba(60, 64, 67, 0.3), 0 1px 3px 1px rgba(60, 64, 67, 0.15);\n",
              "    fill: var(--button-hover-fill-color);\n",
              "  }\n",
              "\n",
              "  .colab-df-quickchart-complete:disabled,\n",
              "  .colab-df-quickchart-complete:disabled:hover {\n",
              "    background-color: var(--disabled-bg-color);\n",
              "    fill: var(--disabled-fill-color);\n",
              "    box-shadow: none;\n",
              "  }\n",
              "\n",
              "  .colab-df-spinner {\n",
              "    border: 2px solid var(--fill-color);\n",
              "    border-color: transparent;\n",
              "    border-bottom-color: var(--fill-color);\n",
              "    animation:\n",
              "      spin 1s steps(1) infinite;\n",
              "  }\n",
              "\n",
              "  @keyframes spin {\n",
              "    0% {\n",
              "      border-color: transparent;\n",
              "      border-bottom-color: var(--fill-color);\n",
              "      border-left-color: var(--fill-color);\n",
              "    }\n",
              "    20% {\n",
              "      border-color: transparent;\n",
              "      border-left-color: var(--fill-color);\n",
              "      border-top-color: var(--fill-color);\n",
              "    }\n",
              "    30% {\n",
              "      border-color: transparent;\n",
              "      border-left-color: var(--fill-color);\n",
              "      border-top-color: var(--fill-color);\n",
              "      border-right-color: var(--fill-color);\n",
              "    }\n",
              "    40% {\n",
              "      border-color: transparent;\n",
              "      border-right-color: var(--fill-color);\n",
              "      border-top-color: var(--fill-color);\n",
              "    }\n",
              "    60% {\n",
              "      border-color: transparent;\n",
              "      border-right-color: var(--fill-color);\n",
              "    }\n",
              "    80% {\n",
              "      border-color: transparent;\n",
              "      border-right-color: var(--fill-color);\n",
              "      border-bottom-color: var(--fill-color);\n",
              "    }\n",
              "    90% {\n",
              "      border-color: transparent;\n",
              "      border-bottom-color: var(--fill-color);\n",
              "    }\n",
              "  }\n",
              "</style>\n",
              "\n",
              "      <script>\n",
              "        async function quickchart(key) {\n",
              "          const quickchartButtonEl =\n",
              "            document.querySelector('#' + key + ' button');\n",
              "          quickchartButtonEl.disabled = true;  // To prevent multiple clicks.\n",
              "          quickchartButtonEl.classList.add('colab-df-spinner');\n",
              "          try {\n",
              "            const charts = await google.colab.kernel.invokeFunction(\n",
              "                'suggestCharts', [key], {});\n",
              "          } catch (error) {\n",
              "            console.error('Error during call to suggestCharts:', error);\n",
              "          }\n",
              "          quickchartButtonEl.classList.remove('colab-df-spinner');\n",
              "          quickchartButtonEl.classList.add('colab-df-quickchart-complete');\n",
              "        }\n",
              "        (() => {\n",
              "          let quickchartButtonEl =\n",
              "            document.querySelector('#df-33089bd4-7b6f-4f8c-960f-e0be8b47619d button');\n",
              "          quickchartButtonEl.style.display =\n",
              "            google.colab.kernel.accessAllowed ? 'block' : 'none';\n",
              "        })();\n",
              "      </script>\n",
              "    </div>\n",
              "\n",
              "  <div id=\"id_ebb8040d-5277-4a0f-9c27-119ff6866d82\">\n",
              "    <style>\n",
              "      .colab-df-generate {\n",
              "        background-color: #E8F0FE;\n",
              "        border: none;\n",
              "        border-radius: 50%;\n",
              "        cursor: pointer;\n",
              "        display: none;\n",
              "        fill: #1967D2;\n",
              "        height: 32px;\n",
              "        padding: 0 0 0 0;\n",
              "        width: 32px;\n",
              "      }\n",
              "\n",
              "      .colab-df-generate:hover {\n",
              "        background-color: #E2EBFA;\n",
              "        box-shadow: 0px 1px 2px rgba(60, 64, 67, 0.3), 0px 1px 3px 1px rgba(60, 64, 67, 0.15);\n",
              "        fill: #174EA6;\n",
              "      }\n",
              "\n",
              "      [theme=dark] .colab-df-generate {\n",
              "        background-color: #3B4455;\n",
              "        fill: #D2E3FC;\n",
              "      }\n",
              "\n",
              "      [theme=dark] .colab-df-generate:hover {\n",
              "        background-color: #434B5C;\n",
              "        box-shadow: 0px 1px 3px 1px rgba(0, 0, 0, 0.15);\n",
              "        filter: drop-shadow(0px 1px 2px rgba(0, 0, 0, 0.3));\n",
              "        fill: #FFFFFF;\n",
              "      }\n",
              "    </style>\n",
              "    <button class=\"colab-df-generate\" onclick=\"generateWithVariable('cluster_summary')\"\n",
              "            title=\"Generate code using this dataframe.\"\n",
              "            style=\"display:none;\">\n",
              "\n",
              "  <svg xmlns=\"http://www.w3.org/2000/svg\" height=\"24px\"viewBox=\"0 0 24 24\"\n",
              "       width=\"24px\">\n",
              "    <path d=\"M7,19H8.4L18.45,9,17,7.55,7,17.6ZM5,21V16.75L18.45,3.32a2,2,0,0,1,2.83,0l1.4,1.43a1.91,1.91,0,0,1,.58,1.4,1.91,1.91,0,0,1-.58,1.4L9.25,21ZM18.45,9,17,7.55Zm-12,3A5.31,5.31,0,0,0,4.9,8.1,5.31,5.31,0,0,0,1,6.5,5.31,5.31,0,0,0,4.9,4.9,5.31,5.31,0,0,0,6.5,1,5.31,5.31,0,0,0,8.1,4.9,5.31,5.31,0,0,0,12,6.5,5.46,5.46,0,0,0,6.5,12Z\"/>\n",
              "  </svg>\n",
              "    </button>\n",
              "    <script>\n",
              "      (() => {\n",
              "      const buttonEl =\n",
              "        document.querySelector('#id_ebb8040d-5277-4a0f-9c27-119ff6866d82 button.colab-df-generate');\n",
              "      buttonEl.style.display =\n",
              "        google.colab.kernel.accessAllowed ? 'block' : 'none';\n",
              "\n",
              "      buttonEl.onclick = () => {\n",
              "        google.colab.notebook.generateWithVariable('cluster_summary');\n",
              "      }\n",
              "      })();\n",
              "    </script>\n",
              "  </div>\n",
              "\n",
              "    </div>\n",
              "  </div>\n"
            ],
            "text/plain": [
              "             Income    Age  Experience  Married  Owns_House  Owns_Car  \\\n",
              "Cluster                                                                 \n",
              "0        5082334.23  51.23       10.46     0.08         1.0      0.29   \n",
              "1        5015496.53  49.76       14.49     0.10         0.0      0.30   \n",
              "2        5003985.38  50.18        4.49     0.10         0.0      0.30   \n",
              "\n",
              "         CURRENT_JOB_YRS  CURRENT_HOUSE_YRS  Risk_Flag  \n",
              "Cluster                                                 \n",
              "0                   6.56              12.11       0.17  \n",
              "1                   8.60              12.01       0.16  \n",
              "2                   3.50              11.99       0.17  "
            ]
          },
          "execution_count": 19,
          "metadata": {},
          "output_type": "execute_result"
        }
      ],
      "source": [
        "# Let's analyze the clusters mate :)......\n",
        "cluster_summary = df.groupby('Cluster').mean().round(2)\n",
        "cluster_summary"
      ]
    },
    {
      "cell_type": "code",
      "execution_count": 26,
      "metadata": {
        "colab": {
          "base_uri": "https://localhost:8080/",
          "height": 564
        },
        "id": "f8OGeFCcP16I",
        "outputId": "bdd81cfd-9746-4ef1-9d72-ceadb371b630"
      },
      "outputs": [
        {
          "output_type": "display_data",
          "data": {
            "text/plain": [
              "<Figure size 1000x600 with 1 Axes>"
            ],
            "image/png": "[encoded data removed]"
          },
          "metadata": {}
        }
      ],
      "source": [
        "plt.figure(figsize=(10, 6))\n",
        "# Create our boxplot\n",
        "sns.boxplot(data=df, x='Cluster', y='Experience', hue='Risk_Flag', palette='Set1')\n",
        "plt.title('Experience Distribution vs Risk Flag by Cluster')\n",
        "plt.xlabel('Customer Cluster')\n",
        "plt.ylabel('Experience')\n",
        "plt.legend(title='Risk Flag', labels=['Low Risk', 'High Risk'])\n",
        "plt.show()"
      ]
    },
    {
      "cell_type": "code",
      "execution_count": null,
      "metadata": {
        "colab": {
          "base_uri": "https://localhost:8080/",
          "height": 607
        },
        "id": "fkIBgh_jZ1Gf",
        "outputId": "f313de06-479d-4a14-e360-1b55946ce147"
      },
      "outputs": [
        {
          "data": {
            "image/png": "[encoded data removed]",
            "text/plain": [
              "<Figure size 1200x600 with 1 Axes>"
            ]
          },
          "metadata": {},
          "output_type": "display_data"
        }
      ],
      "source": [
        "# Visualization 2: Normalized feature means per cluster\n",
        "normalized_means = cluster_summary.drop(columns='Risk_Flag').apply(lambda x: (x - x.min()) / (x.max() - x.min()))\n",
        "normalized_means.T.plot(kind='bar', figsize=(12, 6), colormap='Set2')\n",
        "plt.title('Normalized Feature Means per Cluster')\n",
        "plt.ylabel('Normalized Mean Value')\n",
        "plt.xticks(rotation=45)\n",
        "plt.tight_layout()\n",
        "plt.show()"
      ]
    },
    {
      "cell_type": "markdown",
      "source": [
        "## **Conclusion**"
      ],
      "metadata": {
        "id": "MGMDfJYGi78c"
      }
    },
    {
      "cell_type": "markdown",
      "source": [
        "### **Data Exploration and Preparation**"
      ],
      "metadata": {
        "id": "LNhm7u0zjAmP"
      }
    },
    {
      "cell_type": "markdown",
      "source": [
        "The dataset we have consists of 8,975 unique records after cleaning, each one representing a customer with various financial and demographic attributes. During the data cleaning stage, 10,463 duplicate records where deticted, which were removed to ensure meaningful clustering. The features include income, age, experience, marital status, home and car ownership, years in current job, and years in current house, along with the risk flag."
      ],
      "metadata": {
        "id": "ZZlQE_50jKZ9"
      }
    },
    {
      "cell_type": "markdown",
      "source": [
        "### **Determining Optimal Clusters**"
      ],
      "metadata": {
        "id": "BS_dBeEukBCL"
      }
    },
    {
      "cell_type": "markdown",
      "source": [
        "- **Elbow Method:** The Elbow Method was used to evaluate the inertia (i.e total intra-cluster variance). The optimal number of clusters was determined at k = 3, where the distortion curve bends significantly at this level.\n",
        "- **Silhouette Score:** The Silhouette Score was also computed for different values of k=7. However, a k=3 was chosen based on the Elbow Method, which focuses on minimizing within-cluster variance while balancing interpretability, while k=7 may optimize cluster separation, the choice of k=3 likely prioritizes simplicity and practical application for the bank's decision-making."
      ],
      "metadata": {
        "id": "GBkkOhBFkLZj"
      }
    },
    {
      "cell_type": "markdown",
      "source": [
        "### **Cluster Interpretation and Analysis**"
      ],
      "metadata": {
        "id": "6kaH3X4poCMm"
      }
    },
    {
      "cell_type": "markdown",
      "source": [
        "Each cluster represents a distinct customer profile based on income, age, experience, and other attributes, so let's illustrate each one:\n",
        "- **Cluster 0:** Homeowners with Moderate Financial Stability\n",
        "\n",
        "This cluster is mostly homeowners with stable incomes and moderate financial risk. For insrance:\n",
        "\n",
        "  - Income: 5,082,334.23\n",
        "  - Age: 51.23 years\n",
        "  - Experience: 10.46 years\n",
        "  - Home Ownership: Mostly homeowners\n",
        "  - Car Ownership: Moderate proportion own cars\n",
        "  - Job Tenure: ~6.56 years\n",
        "  - Loan Risk: Moderate risk (0.17)\n",
        "\n",
        "- **Cluster 1:** Financially Stable Non-Homeowners\n",
        "\n",
        "This cluster experienced professionals who rent but have strong financial stability. For insrance:\n",
        "\n",
        "  - Income: 5,015,496.53\n",
        "  - Age: 49.76 years\n",
        "  - Experience: 14.49 years\n",
        "  - Home Ownership: Mostly renters\n",
        "  - Car Ownership: Similar car ownership levels as Cluster 0\n",
        "  - Job Tenure: ~8.60 years\n",
        "  - Loan Risk: Moderate risk (0.16)\n",
        "\n",
        "- **Cluster 2:** Low-Experience, Young Earners\n",
        "\n",
        "This cluster represrnts the young earners with low experience and shorter job tenure, indicating potential financial volatility. For insrance:\n",
        "\n",
        "  - Income: 5,003,985.38\n",
        "  - Age: 50.18 years\n",
        "  - Experience: 4.49 years\n",
        "  - Home Ownership: Few homeowners\n",
        "  - Car Ownership: Similar levels to Cluster 0 and 1\n",
        "  - Job Tenure: ~3.50 years\n",
        "  - Loan Risk: Moderate risk (0.17)"
      ],
      "metadata": {
        "id": "mjO9erPIoR7H"
      }
    },
    {
      "cell_type": "markdown",
      "source": [
        "### **Visualizations and Their Interpretation**"
      ],
      "metadata": {
        "id": "jVMdk7Rcrx3x"
      }
    },
    {
      "cell_type": "markdown",
      "source": [
        "- **Visualization 1:** Experience Distribution vs Risk Flag by Cluster\n",
        "\n",
        "The box plot shows that experience alone does not strongly correlate with loan risk, as both high-risk and low-risk customers at some what have a slightly similar experience distributions across clusters. Cluster 1 tends to have higher experience, while Cluster 2 has more early-career individuals, but risk levels remain mixed within each group. This suggests that other factors—such as income, financial habits, and job tenure coukd play a larger role in determining loan risk rather than just years of experience.\n",
        "\n",
        "- **Visualization 2:** Normalized Feature Means per Cluster\n",
        "  - This bar chart compares clusters across all features in a standardized format.\n",
        "  - Cluster 0 shows strong homeownership, indicating stability.\n",
        "  - Cluster 1 exhibits high experience levels but fewer homeowners, potentially representing customers who prioritize mobility over homeownership.\n",
        "  - Cluster 2 significantly differs in job tenure and experience, meaning they could be early-career individuals or frequent job changers."
      ],
      "metadata": {
        "id": "iAMy4OsGvzvd"
      }
    },
    {
      "cell_type": "markdown",
      "source": [
        "# **PART 2**"
      ],
      "metadata": {
        "id": "kderU04s62W4"
      }
    },
    {
      "cell_type": "markdown",
      "source": [
        " ## **Data Loading and Inspection.**"
      ],
      "metadata": {
        "id": "FvNc0lBlGIOT"
      }
    },
    {
      "cell_type": "markdown",
      "source": [
        "### **Import Required Packages**"
      ],
      "metadata": {
        "id": "5H4H2t-eGWAN"
      }
    },
    {
      "cell_type": "code",
      "source": [
        "import pandas as pd\n",
        "import numpy as np\n",
        "import matplotlib.pyplot as plt\n",
        "import seaborn as sns\n",
        "from sklearn.model_selection import train_test_split\n",
        "from sklearn.preprocessing import StandardScaler\n",
        "from sklearn.decomposition import PCA\n",
        "from tensorflow.keras.models import Sequential\n",
        "from tensorflow.keras.layers import Dense, Dropout\n",
        "from tensorflow.keras.optimizers import Adam\n",
        "from sklearn.metrics import accuracy_score, precision_score, recall_score, f1_score"
      ],
      "metadata": {
        "id": "HxjiXsGiGIuz"
      },
      "execution_count": 37,
      "outputs": []
    },
    {
      "cell_type": "markdown",
      "source": [
        "### **General Overview**"
      ],
      "metadata": {
        "id": "ZnqUG-dIHNgj"
      }
    },
    {
      "cell_type": "code",
      "source": [
        "# Read the dataset\n",
        "path2 = '/content/drive/MyDrive/AXSOSACADEMY/03-DataEnrichment/loan_model_df.csv'\n",
        "df2 = pd.read_csv(path2)\n",
        "# General info about the dataset\n",
        "df2.info()\n",
        "# Display first 5 rows\n",
        "df2.head()"
      ],
      "metadata": {
        "colab": {
          "base_uri": "https://localhost:8080/",
          "height": 347
        },
        "id": "EXifUx11GIxQ",
        "outputId": "d7207a70-c178-4e5f-fd1f-e993e39494d6"
      },
      "execution_count": 31,
      "outputs": [
        {
          "output_type": "stream",
          "name": "stdout",
          "text": [
            "<class 'pandas.core.frame.DataFrame'>\n",
            "RangeIndex: 19438 entries, 0 to 19437\n",
            "Columns: 406 entries, Income to STATE_West_Bengal\n",
            "dtypes: int64(406)\n",
            "memory usage: 60.2 MB\n"
          ]
        },
        {
          "output_type": "execute_result",
          "data": {
            "text/plain": [
              "    Income  Age  Experience  Married  Owns_House  Owns_Car  CURRENT_JOB_YRS  \\\n",
              "0  3635824   56           8        0           0         0                8   \n",
              "1  3231341   47           6        1           0         0                6   \n",
              "2  7430695   59           8        0           0         0                8   \n",
              "3  8688710   47           1        0           0         0                1   \n",
              "4  2229190   21          11        0           0         0                9   \n",
              "\n",
              "   CURRENT_HOUSE_YRS  Risk_Flag  Profession_Air_traffic_controller  ...  \\\n",
              "0                 13          1                                  0  ...   \n",
              "1                 14          0                                  0  ...   \n",
              "2                 10          0                                  0  ...   \n",
              "3                 10          0                                  0  ...   \n",
              "4                 11          0                                  0  ...   \n",
              "\n",
              "   STATE_Punjab  STATE_Rajasthan  STATE_Sikkim  STATE_Tamil_Nadu  \\\n",
              "0             0                0             0                 0   \n",
              "1             0                0             0                 0   \n",
              "2             0                0             0                 0   \n",
              "3             0                0             0                 0   \n",
              "4             0                0             0                 0   \n",
              "\n",
              "   STATE_Telangana  STATE_Tripura  STATE_Uttar_Pradesh  \\\n",
              "0                0              0                    0   \n",
              "1                0              0                    0   \n",
              "2                0              0                    0   \n",
              "3                0              0                    0   \n",
              "4                0              0                    0   \n",
              "\n",
              "   STATE_Uttar_Pradesh[5]  STATE_Uttarakhand  STATE_West_Bengal  \n",
              "0                       0                  0                  0  \n",
              "1                       0                  0                  0  \n",
              "2                       0                  0                  1  \n",
              "3                       0                  0                  0  \n",
              "4                       0                  0                  0  \n",
              "\n",
              "[5 rows x 406 columns]"
            ],
            "text/html": [
              "\n",
              "  <div id=\"df-35aa581c-a82b-445a-9b68-87915395ded0\" class=\"colab-df-container\">\n",
              "    <div>\n",
              "<style scoped>\n",
              "    .dataframe tbody tr th:only-of-type {\n",
              "        vertical-align: middle;\n",
              "    }\n",
              "\n",
              "    .dataframe tbody tr th {\n",
              "        vertical-align: top;\n",
              "    }\n",
              "\n",
              "    .dataframe thead th {\n",
              "        text-align: right;\n",
              "    }\n",
              "</style>\n",
              "<table border=\"1\" class=\"dataframe\">\n",
              "  <thead>\n",
              "    <tr style=\"text-align: right;\">\n",
              "      <th></th>\n",
              "      <th>Income</th>\n",
              "      <th>Age</th>\n",
              "      <th>Experience</th>\n",
              "      <th>Married</th>\n",
              "      <th>Owns_House</th>\n",
              "      <th>Owns_Car</th>\n",
              "      <th>CURRENT_JOB_YRS</th>\n",
              "      <th>CURRENT_HOUSE_YRS</th>\n",
              "      <th>Risk_Flag</th>\n",
              "      <th>Profession_Air_traffic_controller</th>\n",
              "      <th>...</th>\n",
              "      <th>STATE_Punjab</th>\n",
              "      <th>STATE_Rajasthan</th>\n",
              "      <th>STATE_Sikkim</th>\n",
              "      <th>STATE_Tamil_Nadu</th>\n",
              "      <th>STATE_Telangana</th>\n",
              "      <th>STATE_Tripura</th>\n",
              "      <th>STATE_Uttar_Pradesh</th>\n",
              "      <th>STATE_Uttar_Pradesh[5]</th>\n",
              "      <th>STATE_Uttarakhand</th>\n",
              "      <th>STATE_West_Bengal</th>\n",
              "    </tr>\n",
              "  </thead>\n",
              "  <tbody>\n",
              "    <tr>\n",
              "      <th>0</th>\n",
              "      <td>3635824</td>\n",
              "      <td>56</td>\n",
              "      <td>8</td>\n",
              "      <td>0</td>\n",
              "      <td>0</td>\n",
              "      <td>0</td>\n",
              "      <td>8</td>\n",
              "      <td>13</td>\n",
              "      <td>1</td>\n",
              "      <td>0</td>\n",
              "      <td>...</td>\n",
              "      <td>0</td>\n",
              "      <td>0</td>\n",
              "      <td>0</td>\n",
              "      <td>0</td>\n",
              "      <td>0</td>\n",
              "      <td>0</td>\n",
              "      <td>0</td>\n",
              "      <td>0</td>\n",
              "      <td>0</td>\n",
              "      <td>0</td>\n",
              "    </tr>\n",
              "    <tr>\n",
              "      <th>1</th>\n",
              "      <td>3231341</td>\n",
              "      <td>47</td>\n",
              "      <td>6</td>\n",
              "      <td>1</td>\n",
              "      <td>0</td>\n",
              "      <td>0</td>\n",
              "      <td>6</td>\n",
              "      <td>14</td>\n",
              "      <td>0</td>\n",
              "      <td>0</td>\n",
              "      <td>...</td>\n",
              "      <td>0</td>\n",
              "      <td>0</td>\n",
              "      <td>0</td>\n",
              "      <td>0</td>\n",
              "      <td>0</td>\n",
              "      <td>0</td>\n",
              "      <td>0</td>\n",
              "      <td>0</td>\n",
              "      <td>0</td>\n",
              "      <td>0</td>\n",
              "    </tr>\n",
              "    <tr>\n",
              "      <th>2</th>\n",
              "      <td>7430695</td>\n",
              "      <td>59</td>\n",
              "      <td>8</td>\n",
              "      <td>0</td>\n",
              "      <td>0</td>\n",
              "      <td>0</td>\n",
              "      <td>8</td>\n",
              "      <td>10</td>\n",
              "      <td>0</td>\n",
              "      <td>0</td>\n",
              "      <td>...</td>\n",
              "      <td>0</td>\n",
              "      <td>0</td>\n",
              "      <td>0</td>\n",
              "      <td>0</td>\n",
              "      <td>0</td>\n",
              "      <td>0</td>\n",
              "      <td>0</td>\n",
              "      <td>0</td>\n",
              "      <td>0</td>\n",
              "      <td>1</td>\n",
              "    </tr>\n",
              "    <tr>\n",
              "      <th>3</th>\n",
              "      <td>8688710</td>\n",
              "      <td>47</td>\n",
              "      <td>1</td>\n",
              "      <td>0</td>\n",
              "      <td>0</td>\n",
              "      <td>0</td>\n",
              "      <td>1</td>\n",
              "      <td>10</td>\n",
              "      <td>0</td>\n",
              "      <td>0</td>\n",
              "      <td>...</td>\n",
              "      <td>0</td>\n",
              "      <td>0</td>\n",
              "      <td>0</td>\n",
              "      <td>0</td>\n",
              "      <td>0</td>\n",
              "      <td>0</td>\n",
              "      <td>0</td>\n",
              "      <td>0</td>\n",
              "      <td>0</td>\n",
              "      <td>0</td>\n",
              "    </tr>\n",
              "    <tr>\n",
              "      <th>4</th>\n",
              "      <td>2229190</td>\n",
              "      <td>21</td>\n",
              "      <td>11</td>\n",
              "      <td>0</td>\n",
              "      <td>0</td>\n",
              "      <td>0</td>\n",
              "      <td>9</td>\n",
              "      <td>11</td>\n",
              "      <td>0</td>\n",
              "      <td>0</td>\n",
              "      <td>...</td>\n",
              "      <td>0</td>\n",
              "      <td>0</td>\n",
              "      <td>0</td>\n",
              "      <td>0</td>\n",
              "      <td>0</td>\n",
              "      <td>0</td>\n",
              "      <td>0</td>\n",
              "      <td>0</td>\n",
              "      <td>0</td>\n",
              "      <td>0</td>\n",
              "    </tr>\n",
              "  </tbody>\n",
              "</table>\n",
              "<p>5 rows × 406 columns</p>\n",
              "</div>\n",
              "    <div class=\"colab-df-buttons\">\n",
              "\n",
              "  <div class=\"colab-df-container\">\n",
              "    <button class=\"colab-df-convert\" onclick=\"convertToInteractive('df-35aa581c-a82b-445a-9b68-87915395ded0')\"\n",
              "            title=\"Convert this dataframe to an interactive table.\"\n",
              "            style=\"display:none;\">\n",
              "\n",
              "  <svg xmlns=\"http://www.w3.org/2000/svg\" height=\"24px\" viewBox=\"0 -960 960 960\">\n",
              "    <path d=\"M120-120v-720h720v720H120Zm60-500h600v-160H180v160Zm220 220h160v-160H400v160Zm0 220h160v-160H400v160ZM180-400h160v-160H180v160Zm440 0h160v-160H620v160ZM180-180h160v-160H180v160Zm440 0h160v-160H620v160Z\"/>\n",
              "  </svg>\n",
              "    </button>\n",
              "\n",
              "  <style>\n",
              "    .colab-df-container {\n",
              "      display:flex;\n",
              "      gap: 12px;\n",
              "    }\n",
              "\n",
              "    .colab-df-convert {\n",
              "      background-color: #E8F0FE;\n",
              "      border: none;\n",
              "      border-radius: 50%;\n",
              "      cursor: pointer;\n",
              "      display: none;\n",
              "      fill: #1967D2;\n",
              "      height: 32px;\n",
              "      padding: 0 0 0 0;\n",
              "      width: 32px;\n",
              "    }\n",
              "\n",
              "    .colab-df-convert:hover {\n",
              "      background-color: #E2EBFA;\n",
              "      box-shadow: 0px 1px 2px rgba(60, 64, 67, 0.3), 0px 1px 3px 1px rgba(60, 64, 67, 0.15);\n",
              "      fill: #174EA6;\n",
              "    }\n",
              "\n",
              "    .colab-df-buttons div {\n",
              "      margin-bottom: 4px;\n",
              "    }\n",
              "\n",
              "    [theme=dark] .colab-df-convert {\n",
              "      background-color: #3B4455;\n",
              "      fill: #D2E3FC;\n",
              "    }\n",
              "\n",
              "    [theme=dark] .colab-df-convert:hover {\n",
              "      background-color: #434B5C;\n",
              "      box-shadow: 0px 1px 3px 1px rgba(0, 0, 0, 0.15);\n",
              "      filter: drop-shadow(0px 1px 2px rgba(0, 0, 0, 0.3));\n",
              "      fill: #FFFFFF;\n",
              "    }\n",
              "  </style>\n",
              "\n",
              "    <script>\n",
              "      const buttonEl =\n",
              "        document.querySelector('#df-35aa581c-a82b-445a-9b68-87915395ded0 button.colab-df-convert');\n",
              "      buttonEl.style.display =\n",
              "        google.colab.kernel.accessAllowed ? 'block' : 'none';\n",
              "\n",
              "      async function convertToInteractive(key) {\n",
              "        const element = document.querySelector('#df-35aa581c-a82b-445a-9b68-87915395ded0');\n",
              "        const dataTable =\n",
              "          await google.colab.kernel.invokeFunction('convertToInteractive',\n",
              "                                                    [key], {});\n",
              "        if (!dataTable) return;\n",
              "\n",
              "        const docLinkHtml = 'Like what you see? Visit the ' +\n",
              "          '<a target=\"_blank\" href=https://colab.research.google.com/notebooks/data_table.ipynb>data table notebook</a>'\n",
              "          + ' to learn more about interactive tables.';\n",
              "        element.innerHTML = '';\n",
              "        dataTable['output_type'] = 'display_data';\n",
              "        await google.colab.output.renderOutput(dataTable, element);\n",
              "        const docLink = document.createElement('div');\n",
              "        docLink.innerHTML = docLinkHtml;\n",
              "        element.appendChild(docLink);\n",
              "      }\n",
              "    </script>\n",
              "  </div>\n",
              "\n",
              "\n",
              "    <div id=\"df-f07805ad-1134-45c8-9c4c-92139521f566\">\n",
              "      <button class=\"colab-df-quickchart\" onclick=\"quickchart('df-f07805ad-1134-45c8-9c4c-92139521f566')\"\n",
              "                title=\"Suggest charts\"\n",
              "                style=\"display:none;\">\n",
              "\n",
              "<svg xmlns=\"http://www.w3.org/2000/svg\" height=\"24px\"viewBox=\"0 0 24 24\"\n",
              "     width=\"24px\">\n",
              "    <g>\n",
              "        <path d=\"M19 3H5c-1.1 0-2 .9-2 2v14c0 1.1.9 2 2 2h14c1.1 0 2-.9 2-2V5c0-1.1-.9-2-2-2zM9 17H7v-7h2v7zm4 0h-2V7h2v10zm4 0h-2v-4h2v4z\"/>\n",
              "    </g>\n",
              "</svg>\n",
              "      </button>\n",
              "\n",
              "<style>\n",
              "  .colab-df-quickchart {\n",
              "      --bg-color: #E8F0FE;\n",
              "      --fill-color: #1967D2;\n",
              "      --hover-bg-color: #E2EBFA;\n",
              "      --hover-fill-color: #174EA6;\n",
              "      --disabled-fill-color: #AAA;\n",
              "      --disabled-bg-color: #DDD;\n",
              "  }\n",
              "\n",
              "  [theme=dark] .colab-df-quickchart {\n",
              "      --bg-color: #3B4455;\n",
              "      --fill-color: #D2E3FC;\n",
              "      --hover-bg-color: #434B5C;\n",
              "      --hover-fill-color: #FFFFFF;\n",
              "      --disabled-bg-color: #3B4455;\n",
              "      --disabled-fill-color: #666;\n",
              "  }\n",
              "\n",
              "  .colab-df-quickchart {\n",
              "    background-color: var(--bg-color);\n",
              "    border: none;\n",
              "    border-radius: 50%;\n",
              "    cursor: pointer;\n",
              "    display: none;\n",
              "    fill: var(--fill-color);\n",
              "    height: 32px;\n",
              "    padding: 0;\n",
              "    width: 32px;\n",
              "  }\n",
              "\n",
              "  .colab-df-quickchart:hover {\n",
              "    background-color: var(--hover-bg-color);\n",
              "    box-shadow: 0 1px 2px rgba(60, 64, 67, 0.3), 0 1px 3px 1px rgba(60, 64, 67, 0.15);\n",
              "    fill: var(--button-hover-fill-color);\n",
              "  }\n",
              "\n",
              "  .colab-df-quickchart-complete:disabled,\n",
              "  .colab-df-quickchart-complete:disabled:hover {\n",
              "    background-color: var(--disabled-bg-color);\n",
              "    fill: var(--disabled-fill-color);\n",
              "    box-shadow: none;\n",
              "  }\n",
              "\n",
              "  .colab-df-spinner {\n",
              "    border: 2px solid var(--fill-color);\n",
              "    border-color: transparent;\n",
              "    border-bottom-color: var(--fill-color);\n",
              "    animation:\n",
              "      spin 1s steps(1) infinite;\n",
              "  }\n",
              "\n",
              "  @keyframes spin {\n",
              "    0% {\n",
              "      border-color: transparent;\n",
              "      border-bottom-color: var(--fill-color);\n",
              "      border-left-color: var(--fill-color);\n",
              "    }\n",
              "    20% {\n",
              "      border-color: transparent;\n",
              "      border-left-color: var(--fill-color);\n",
              "      border-top-color: var(--fill-color);\n",
              "    }\n",
              "    30% {\n",
              "      border-color: transparent;\n",
              "      border-left-color: var(--fill-color);\n",
              "      border-top-color: var(--fill-color);\n",
              "      border-right-color: var(--fill-color);\n",
              "    }\n",
              "    40% {\n",
              "      border-color: transparent;\n",
              "      border-right-color: var(--fill-color);\n",
              "      border-top-color: var(--fill-color);\n",
              "    }\n",
              "    60% {\n",
              "      border-color: transparent;\n",
              "      border-right-color: var(--fill-color);\n",
              "    }\n",
              "    80% {\n",
              "      border-color: transparent;\n",
              "      border-right-color: var(--fill-color);\n",
              "      border-bottom-color: var(--fill-color);\n",
              "    }\n",
              "    90% {\n",
              "      border-color: transparent;\n",
              "      border-bottom-color: var(--fill-color);\n",
              "    }\n",
              "  }\n",
              "</style>\n",
              "\n",
              "      <script>\n",
              "        async function quickchart(key) {\n",
              "          const quickchartButtonEl =\n",
              "            document.querySelector('#' + key + ' button');\n",
              "          quickchartButtonEl.disabled = true;  // To prevent multiple clicks.\n",
              "          quickchartButtonEl.classList.add('colab-df-spinner');\n",
              "          try {\n",
              "            const charts = await google.colab.kernel.invokeFunction(\n",
              "                'suggestCharts', [key], {});\n",
              "          } catch (error) {\n",
              "            console.error('Error during call to suggestCharts:', error);\n",
              "          }\n",
              "          quickchartButtonEl.classList.remove('colab-df-spinner');\n",
              "          quickchartButtonEl.classList.add('colab-df-quickchart-complete');\n",
              "        }\n",
              "        (() => {\n",
              "          let quickchartButtonEl =\n",
              "            document.querySelector('#df-f07805ad-1134-45c8-9c4c-92139521f566 button');\n",
              "          quickchartButtonEl.style.display =\n",
              "            google.colab.kernel.accessAllowed ? 'block' : 'none';\n",
              "        })();\n",
              "      </script>\n",
              "    </div>\n",
              "\n",
              "    </div>\n",
              "  </div>\n"
            ],
            "application/vnd.google.colaboratory.intrinsic+json": {
              "type": "dataframe",
              "variable_name": "df2"
            }
          },
          "metadata": {},
          "execution_count": 31
        }
      ]
    },
    {
      "cell_type": "code",
      "source": [
        "# Display the number of rows and columns within the dataset\n",
        "print(f\"The number of records within the dataset (rows) is : {df2.shape[0]}\")\n",
        "print(f\"The mumber of features within the dataset (columns) is: {df2.shape[1]}\")"
      ],
      "metadata": {
        "colab": {
          "base_uri": "https://localhost:8080/"
        },
        "id": "jqWx3lINGIzl",
        "outputId": "a6d2e9f5-4ce5-4a08-e73c-d34b4fcfe678"
      },
      "execution_count": 32,
      "outputs": [
        {
          "output_type": "stream",
          "name": "stdout",
          "text": [
            "The number of records within the dataset (rows) is : 19438\n",
            "The mumber of features within the dataset (columns) is: 406\n"
          ]
        }
      ]
    },
    {
      "cell_type": "markdown",
      "source": [
        "### **Missing Values**"
      ],
      "metadata": {
        "id": "IVI8rVCnOE1D"
      }
    },
    {
      "cell_type": "code",
      "source": [
        "# Identify missing values\n",
        "print(\"\\nMissing values in all features are:\")\n",
        "df2.isnull().sum().sum()"
      ],
      "metadata": {
        "colab": {
          "base_uri": "https://localhost:8080/"
        },
        "id": "7P4q_QWbGI2B",
        "outputId": "bd34d78c-6400-4d4a-9f77-6ae0aae2ea92"
      },
      "execution_count": 36,
      "outputs": [
        {
          "output_type": "stream",
          "name": "stdout",
          "text": [
            "\n",
            "Missing values in all features are:\n"
          ]
        },
        {
          "output_type": "execute_result",
          "data": {
            "text/plain": [
              "np.int64(0)"
            ]
          },
          "metadata": {},
          "execution_count": 36
        }
      ]
    },
    {
      "cell_type": "markdown",
      "source": [
        "## **Preprocessing**"
      ],
      "metadata": {
        "id": "O_HiTagUObwr"
      }
    },
    {
      "cell_type": "code",
      "source": [
        "target = \"Risk_Flag\"\n",
        "X = df2.drop(columns=[target])  # Features\n",
        "y = df2[target]  # Target variable\n",
        "X_train, X_test, y_train, y_test = train_test_split(X, y, test_size=0.2, random_state=42)"
      ],
      "metadata": {
        "id": "5UMacH5fGI4V"
      },
      "execution_count": 38,
      "outputs": []
    },
    {
      "cell_type": "code",
      "source": [
        "# scaler\n",
        "scaler = StandardScaler()\n",
        "X_train_scaled = scaler.fit_transform(X_train)\n",
        "X_test_scaled = scaler.transform(X_test)"
      ],
      "metadata": {
        "id": "Z257zH5VGI6d"
      },
      "execution_count": 39,
      "outputs": []
    },
    {
      "cell_type": "code",
      "source": [
        "# PCA\n",
        "pca = PCA(n_components=0.95)\n",
        "X_train_pca = pca.fit_transform(X_train_scaled)\n",
        "X_test_pca = pca.transform(X_test_scaled)"
      ],
      "metadata": {
        "id": "iAluQRNaGI8R"
      },
      "execution_count": 40,
      "outputs": []
    },
    {
      "cell_type": "code",
      "source": [
        "# Model 1: Baseline Model..............\n",
        "model_1 = Sequential([\n",
        "    Dense(64, activation='relu', input_shape=(X_train_pca.shape[1],)),\n",
        "    Dense(32, activation='relu'),\n",
        "    Dense(1, activation='sigmoid')  # Output layer (binary classification)\n",
        "])\n",
        "model_1.compile(optimizer=Adam(learning_rate=0.001), loss=\"binary_crossentropy\", metrics=[\"accuracy\"])\n",
        "history1 = model_1.fit(X_train_pca, y_train, epochs=20, batch_size=32, validation_data=(X_test_pca, y_test))"
      ],
      "metadata": {
        "colab": {
          "base_uri": "https://localhost:8080/"
        },
        "id": "MYUGoDqjGI-V",
        "outputId": "1c2b90ea-bb34-4d98-f40e-713cb779f8ef"
      },
      "execution_count": 47,
      "outputs": [
        {
          "output_type": "stream",
          "name": "stdout",
          "text": [
            "Epoch 1/20\n"
          ]
        },
        {
          "output_type": "stream",
          "name": "stderr",
          "text": [
            "/usr/local/lib/python3.11/dist-packages/keras/src/layers/core/dense.py:87: UserWarning: Do not pass an `input_shape`/`input_dim` argument to a layer. When using Sequential models, prefer using an `Input(shape)` object as the first layer in the model instead.\n",
            "  super().__init__(activity_regularizer=activity_regularizer, **kwargs)\n"
          ]
        },
        {
          "output_type": "stream",
          "name": "stdout",
          "text": [
            "\u001b[1m486/486\u001b[0m \u001b[32m━━━━━━━━━━━━━━━━━━━━\u001b[0m\u001b[37m\u001b[0m \u001b[1m4s\u001b[0m 6ms/step - accuracy: 0.8413 - loss: 0.4218 - val_accuracy: 0.8776 - val_loss: 0.3636\n",
            "Epoch 2/20\n",
            "\u001b[1m486/486\u001b[0m \u001b[32m━━━━━━━━━━━━━━━━━━━━\u001b[0m\u001b[37m\u001b[0m \u001b[1m2s\u001b[0m 4ms/step - accuracy: 0.8768 - loss: 0.3426 - val_accuracy: 0.8783 - val_loss: 0.3552\n",
            "Epoch 3/20\n",
            "\u001b[1m486/486\u001b[0m \u001b[32m━━━━━━━━━━━━━━━━━━━━\u001b[0m\u001b[37m\u001b[0m \u001b[1m2s\u001b[0m 3ms/step - accuracy: 0.8793 - loss: 0.3178 - val_accuracy: 0.8789 - val_loss: 0.3443\n",
            "Epoch 4/20\n",
            "\u001b[1m486/486\u001b[0m \u001b[32m━━━━━━━━━━━━━━━━━━━━\u001b[0m\u001b[37m\u001b[0m \u001b[1m3s\u001b[0m 3ms/step - accuracy: 0.8788 - loss: 0.3017 - val_accuracy: 0.8768 - val_loss: 0.3468\n",
            "Epoch 5/20\n",
            "\u001b[1m486/486\u001b[0m \u001b[32m━━━━━━━━━━━━━━━━━━━━\u001b[0m\u001b[37m\u001b[0m \u001b[1m3s\u001b[0m 3ms/step - accuracy: 0.8833 - loss: 0.2755 - val_accuracy: 0.8750 - val_loss: 0.3414\n",
            "Epoch 6/20\n",
            "\u001b[1m486/486\u001b[0m \u001b[32m━━━━━━━━━━━━━━━━━━━━\u001b[0m\u001b[37m\u001b[0m \u001b[1m3s\u001b[0m 4ms/step - accuracy: 0.8960 - loss: 0.2456 - val_accuracy: 0.8696 - val_loss: 0.3398\n",
            "Epoch 7/20\n",
            "\u001b[1m486/486\u001b[0m \u001b[32m━━━━━━━━━━━━━━━━━━━━\u001b[0m\u001b[37m\u001b[0m \u001b[1m3s\u001b[0m 6ms/step - accuracy: 0.8965 - loss: 0.2314 - val_accuracy: 0.8691 - val_loss: 0.3452\n",
            "Epoch 8/20\n",
            "\u001b[1m486/486\u001b[0m \u001b[32m━━━━━━━━━━━━━━━━━━━━\u001b[0m\u001b[37m\u001b[0m \u001b[1m4s\u001b[0m 3ms/step - accuracy: 0.9051 - loss: 0.2139 - val_accuracy: 0.8727 - val_loss: 0.3539\n",
            "Epoch 9/20\n",
            "\u001b[1m486/486\u001b[0m \u001b[32m━━━━━━━━━━━━━━━━━━━━\u001b[0m\u001b[37m\u001b[0m \u001b[1m3s\u001b[0m 3ms/step - accuracy: 0.9128 - loss: 0.1966 - val_accuracy: 0.8732 - val_loss: 0.3589\n",
            "Epoch 10/20\n",
            "\u001b[1m486/486\u001b[0m \u001b[32m━━━━━━━━━━━━━━━━━━━━\u001b[0m\u001b[37m\u001b[0m \u001b[1m2s\u001b[0m 3ms/step - accuracy: 0.9175 - loss: 0.1841 - val_accuracy: 0.8729 - val_loss: 0.3705\n",
            "Epoch 11/20\n",
            "\u001b[1m486/486\u001b[0m \u001b[32m━━━━━━━━━━━━━━━━━━━━\u001b[0m\u001b[37m\u001b[0m \u001b[1m3s\u001b[0m 5ms/step - accuracy: 0.9222 - loss: 0.1739 - val_accuracy: 0.8719 - val_loss: 0.3784\n",
            "Epoch 12/20\n",
            "\u001b[1m486/486\u001b[0m \u001b[32m━━━━━━━━━━━━━━━━━━━━\u001b[0m\u001b[37m\u001b[0m \u001b[1m4s\u001b[0m 3ms/step - accuracy: 0.9270 - loss: 0.1655 - val_accuracy: 0.8789 - val_loss: 0.3768\n",
            "Epoch 13/20\n",
            "\u001b[1m486/486\u001b[0m \u001b[32m━━━━━━━━━━━━━━━━━━━━\u001b[0m\u001b[37m\u001b[0m \u001b[1m3s\u001b[0m 3ms/step - accuracy: 0.9320 - loss: 0.1520 - val_accuracy: 0.8706 - val_loss: 0.3916\n",
            "Epoch 14/20\n",
            "\u001b[1m486/486\u001b[0m \u001b[32m━━━━━━━━━━━━━━━━━━━━\u001b[0m\u001b[37m\u001b[0m \u001b[1m2s\u001b[0m 3ms/step - accuracy: 0.9356 - loss: 0.1468 - val_accuracy: 0.8773 - val_loss: 0.3921\n",
            "Epoch 15/20\n",
            "\u001b[1m486/486\u001b[0m \u001b[32m━━━━━━━━━━━━━━━━━━━━\u001b[0m\u001b[37m\u001b[0m \u001b[1m2s\u001b[0m 3ms/step - accuracy: 0.9351 - loss: 0.1476 - val_accuracy: 0.8776 - val_loss: 0.4014\n",
            "Epoch 16/20\n",
            "\u001b[1m486/486\u001b[0m \u001b[32m━━━━━━━━━━━━━━━━━━━━\u001b[0m\u001b[37m\u001b[0m \u001b[1m3s\u001b[0m 6ms/step - accuracy: 0.9354 - loss: 0.1423 - val_accuracy: 0.8745 - val_loss: 0.4102\n",
            "Epoch 17/20\n",
            "\u001b[1m486/486\u001b[0m \u001b[32m━━━━━━━━━━━━━━━━━━━━\u001b[0m\u001b[37m\u001b[0m \u001b[1m2s\u001b[0m 5ms/step - accuracy: 0.9321 - loss: 0.1421 - val_accuracy: 0.8724 - val_loss: 0.4321\n",
            "Epoch 18/20\n",
            "\u001b[1m486/486\u001b[0m \u001b[32m━━━━━━━━━━━━━━━━━━━━\u001b[0m\u001b[37m\u001b[0m \u001b[1m2s\u001b[0m 3ms/step - accuracy: 0.9384 - loss: 0.1399 - val_accuracy: 0.8747 - val_loss: 0.4255\n",
            "Epoch 19/20\n",
            "\u001b[1m486/486\u001b[0m \u001b[32m━━━━━━━━━━━━━━━━━━━━\u001b[0m\u001b[37m\u001b[0m \u001b[1m2s\u001b[0m 3ms/step - accuracy: 0.9411 - loss: 0.1333 - val_accuracy: 0.8750 - val_loss: 0.4317\n",
            "Epoch 20/20\n",
            "\u001b[1m486/486\u001b[0m \u001b[32m━━━━━━━━━━━━━━━━━━━━\u001b[0m\u001b[37m\u001b[0m \u001b[1m3s\u001b[0m 3ms/step - accuracy: 0.9394 - loss: 0.1315 - val_accuracy: 0.8783 - val_loss: 0.4321\n"
          ]
        }
      ]
    },
    {
      "cell_type": "code",
      "source": [
        "\n",
        "# Evaluate Model 1\n",
        "y_pred_1 = (model_1.predict(X_test_pca) > 0.5).astype(\"int32\")\n",
        "print(f\"Baseline Model - Accuracy: {accuracy_score(y_test, y_pred_1):.4f}, Precision: {precision_score(y_test, y_pred_1):.4f}, Recall: {recall_score(y_test, y_pred_1):.4f}, F1-score: {f1_score(y_test, y_pred_1):.4f}\")"
      ],
      "metadata": {
        "colab": {
          "base_uri": "https://localhost:8080/"
        },
        "id": "8bPUYmpDGJAk",
        "outputId": "c273b89e-51f5-4f31-ec34-a68cdb544e47"
      },
      "execution_count": 48,
      "outputs": [
        {
          "output_type": "stream",
          "name": "stdout",
          "text": [
            "\u001b[1m122/122\u001b[0m \u001b[32m━━━━━━━━━━━━━━━━━━━━\u001b[0m\u001b[37m\u001b[0m \u001b[1m0s\u001b[0m 2ms/step\n",
            "Baseline Model - Accuracy: 0.8783, Precision: 0.5029, Recall: 0.3684, F1-score: 0.4253\n"
          ]
        }
      ]
    },
    {
      "cell_type": "code",
      "source": [
        "def plot_history(history, figsize=(6, 12), marker='o'):\n",
        "    metrics_list = [c for c in history.history if not c.startswith('val_')]\n",
        "\n",
        "    fig, axes = plt.subplots(nrows=len(metrics_list), figsize=figsize)\n",
        "\n",
        "    if len(metrics_list) == 1:\n",
        "        axes = [axes]  # Ensure axes are always iterable\n",
        "\n",
        "    for i, metric_name in enumerate(metrics_list):\n",
        "        ax = axes[i]\n",
        "        ax.plot(history.epoch, history.history[metric_name], label=metric_name, marker=marker)\n",
        "\n",
        "        val_metric_name = f\"val_{metric_name}\"\n",
        "        if val_metric_name in history.history:\n",
        "            ax.plot(history.epoch, history.history[val_metric_name], label=val_metric_name, marker=marker)\n",
        "\n",
        "        ax.legend()\n",
        "        ax.set_title(metric_name)\n",
        "\n",
        "    fig.tight_layout()\n",
        "    return fig, axes"
      ],
      "metadata": {
        "id": "XCOvOrRqGJC9"
      },
      "execution_count": 49,
      "outputs": []
    },
    {
      "cell_type": "code",
      "source": [
        "plot_history(history1)"
      ],
      "metadata": {
        "colab": {
          "base_uri": "https://localhost:8080/",
          "height": 1000
        },
        "id": "YmjaB2_vGJFf",
        "outputId": "6f727ec5-5cb1-4a83-a5bf-83b4c63b942f"
      },
      "execution_count": 50,
      "outputs": [
        {
          "output_type": "execute_result",
          "data": {
            "text/plain": [
              "(<Figure size 600x1200 with 2 Axes>,\n",
              " array([<Axes: title={'center': 'accuracy'}>,\n",
              "        <Axes: title={'center': 'loss'}>], dtype=object))"
            ]
          },
          "metadata": {},
          "execution_count": 50
        },
        {
          "output_type": "display_data",
          "data": {
            "text/plain": [
              "<Figure size 600x1200 with 2 Axes>"
            ],
            "image/png": "[encoded data removed]"
          },
          "metadata": {}
        }
      ]
    },
    {
      "cell_type": "code",
      "source": [
        "# Model 2: Improved Model (More Layers & Dropout)\n",
        "model_2 = Sequential([\n",
        "    Dense(128, activation='relu', input_shape=(X_train_pca.shape[1],)),\n",
        "    Dropout(0.3),\n",
        "    Dense(64, activation='relu'),\n",
        "    Dropout(0.2),\n",
        "    Dense(32, activation='relu'),\n",
        "    Dense(1, activation='sigmoid')\n",
        "])\n",
        "model_2.compile(optimizer=Adam(learning_rate=0.001), loss=\"binary_crossentropy\", metrics=[\"accuracy\"])\n",
        "history2 = model_2.fit(X_train_pca, y_train, epochs=30, batch_size=32, validation_data=(X_test_pca, y_test))"
      ],
      "metadata": {
        "colab": {
          "base_uri": "https://localhost:8080/"
        },
        "id": "RvCzBXqxGJHr",
        "outputId": "f0cd9f69-a796-4b1e-90d4-0c0c78c2555a"
      },
      "execution_count": 51,
      "outputs": [
        {
          "output_type": "stream",
          "name": "stderr",
          "text": [
            "/usr/local/lib/python3.11/dist-packages/keras/src/layers/core/dense.py:87: UserWarning: Do not pass an `input_shape`/`input_dim` argument to a layer. When using Sequential models, prefer using an `Input(shape)` object as the first layer in the model instead.\n",
            "  super().__init__(activity_regularizer=activity_regularizer, **kwargs)\n"
          ]
        },
        {
          "output_type": "stream",
          "name": "stdout",
          "text": [
            "Epoch 1/30\n",
            "\u001b[1m486/486\u001b[0m \u001b[32m━━━━━━━━━━━━━━━━━━━━\u001b[0m\u001b[37m\u001b[0m \u001b[1m6s\u001b[0m 5ms/step - accuracy: 0.8752 - loss: 0.3987 - val_accuracy: 0.8778 - val_loss: 0.3672\n",
            "Epoch 2/30\n",
            "\u001b[1m486/486\u001b[0m \u001b[32m━━━━━━━━━━━━━━━━━━━━\u001b[0m\u001b[37m\u001b[0m \u001b[1m3s\u001b[0m 7ms/step - accuracy: 0.8720 - loss: 0.3724 - val_accuracy: 0.8778 - val_loss: 0.3611\n",
            "Epoch 3/30\n",
            "\u001b[1m486/486\u001b[0m \u001b[32m━━━━━━━━━━━━━━━━━━━━\u001b[0m\u001b[37m\u001b[0m \u001b[1m2s\u001b[0m 4ms/step - accuracy: 0.8764 - loss: 0.3513 - val_accuracy: 0.8778 - val_loss: 0.3644\n",
            "Epoch 4/30\n",
            "\u001b[1m486/486\u001b[0m \u001b[32m━━━━━━━━━━━━━━━━━━━━\u001b[0m\u001b[37m\u001b[0m \u001b[1m3s\u001b[0m 5ms/step - accuracy: 0.8752 - loss: 0.3472 - val_accuracy: 0.8768 - val_loss: 0.3666\n",
            "Epoch 5/30\n",
            "\u001b[1m486/486\u001b[0m \u001b[32m━━━━━━━━━━━━━━━━━━━━\u001b[0m\u001b[37m\u001b[0m \u001b[1m2s\u001b[0m 5ms/step - accuracy: 0.8774 - loss: 0.3310 - val_accuracy: 0.8776 - val_loss: 0.3543\n",
            "Epoch 6/30\n",
            "\u001b[1m486/486\u001b[0m \u001b[32m━━━━━━━━━━━━━━━━━━━━\u001b[0m\u001b[37m\u001b[0m \u001b[1m3s\u001b[0m 7ms/step - accuracy: 0.8731 - loss: 0.3327 - val_accuracy: 0.8765 - val_loss: 0.3525\n",
            "Epoch 7/30\n",
            "\u001b[1m486/486\u001b[0m \u001b[32m━━━━━━━━━━━━━━━━━━━━\u001b[0m\u001b[37m\u001b[0m \u001b[1m5s\u001b[0m 10ms/step - accuracy: 0.8759 - loss: 0.3227 - val_accuracy: 0.8768 - val_loss: 0.3460\n",
            "Epoch 8/30\n",
            "\u001b[1m486/486\u001b[0m \u001b[32m━━━━━━━━━━━━━━━━━━━━\u001b[0m\u001b[37m\u001b[0m \u001b[1m3s\u001b[0m 6ms/step - accuracy: 0.8825 - loss: 0.2976 - val_accuracy: 0.8773 - val_loss: 0.3527\n",
            "Epoch 9/30\n",
            "\u001b[1m486/486\u001b[0m \u001b[32m━━━━━━━━━━━━━━━━━━━━\u001b[0m\u001b[37m\u001b[0m \u001b[1m4s\u001b[0m 7ms/step - accuracy: 0.8832 - loss: 0.2917 - val_accuracy: 0.8765 - val_loss: 0.3448\n",
            "Epoch 10/30\n",
            "\u001b[1m486/486\u001b[0m \u001b[32m━━━━━━━━━━━━━━━━━━━━\u001b[0m\u001b[37m\u001b[0m \u001b[1m5s\u001b[0m 9ms/step - accuracy: 0.8840 - loss: 0.2850 - val_accuracy: 0.8755 - val_loss: 0.3482\n",
            "Epoch 11/30\n",
            "\u001b[1m486/486\u001b[0m \u001b[32m━━━━━━━━━━━━━━━━━━━━\u001b[0m\u001b[37m\u001b[0m \u001b[1m3s\u001b[0m 5ms/step - accuracy: 0.8884 - loss: 0.2738 - val_accuracy: 0.8781 - val_loss: 0.3443\n",
            "Epoch 12/30\n",
            "\u001b[1m486/486\u001b[0m \u001b[32m━━━━━━━━━━━━━━━━━━━━\u001b[0m\u001b[37m\u001b[0m \u001b[1m5s\u001b[0m 4ms/step - accuracy: 0.8970 - loss: 0.2528 - val_accuracy: 0.8742 - val_loss: 0.3467\n",
            "Epoch 13/30\n",
            "\u001b[1m486/486\u001b[0m \u001b[32m━━━━━━━━━━━━━━━━━━━━\u001b[0m\u001b[37m\u001b[0m \u001b[1m2s\u001b[0m 5ms/step - accuracy: 0.8880 - loss: 0.2517 - val_accuracy: 0.8809 - val_loss: 0.3455\n",
            "Epoch 14/30\n",
            "\u001b[1m486/486\u001b[0m \u001b[32m━━━━━━━━━━━━━━━━━━━━\u001b[0m\u001b[37m\u001b[0m \u001b[1m2s\u001b[0m 4ms/step - accuracy: 0.8998 - loss: 0.2355 - val_accuracy: 0.8763 - val_loss: 0.3507\n",
            "Epoch 15/30\n",
            "\u001b[1m486/486\u001b[0m \u001b[32m━━━━━━━━━━━━━━━━━━━━\u001b[0m\u001b[37m\u001b[0m \u001b[1m3s\u001b[0m 7ms/step - accuracy: 0.9027 - loss: 0.2286 - val_accuracy: 0.8699 - val_loss: 0.3530\n",
            "Epoch 16/30\n",
            "\u001b[1m486/486\u001b[0m \u001b[32m━━━━━━━━━━━━━━━━━━━━\u001b[0m\u001b[37m\u001b[0m \u001b[1m4s\u001b[0m 4ms/step - accuracy: 0.9032 - loss: 0.2204 - val_accuracy: 0.8747 - val_loss: 0.3560\n",
            "Epoch 17/30\n",
            "\u001b[1m486/486\u001b[0m \u001b[32m━━━━━━━━━━━━━━━━━━━━\u001b[0m\u001b[37m\u001b[0m \u001b[1m2s\u001b[0m 5ms/step - accuracy: 0.9091 - loss: 0.2115 - val_accuracy: 0.8670 - val_loss: 0.3592\n",
            "Epoch 18/30\n",
            "\u001b[1m486/486\u001b[0m \u001b[32m━━━━━━━━━━━━━━━━━━━━\u001b[0m\u001b[37m\u001b[0m \u001b[1m2s\u001b[0m 4ms/step - accuracy: 0.9071 - loss: 0.2137 - val_accuracy: 0.8711 - val_loss: 0.3646\n",
            "Epoch 19/30\n",
            "\u001b[1m486/486\u001b[0m \u001b[32m━━━━━━━━━━━━━━━━━━━━\u001b[0m\u001b[37m\u001b[0m \u001b[1m2s\u001b[0m 4ms/step - accuracy: 0.9071 - loss: 0.2044 - val_accuracy: 0.8745 - val_loss: 0.3857\n",
            "Epoch 20/30\n",
            "\u001b[1m486/486\u001b[0m \u001b[32m━━━━━━━━━━━━━━━━━━━━\u001b[0m\u001b[37m\u001b[0m \u001b[1m4s\u001b[0m 7ms/step - accuracy: 0.9118 - loss: 0.1974 - val_accuracy: 0.8729 - val_loss: 0.3818\n",
            "Epoch 21/30\n",
            "\u001b[1m486/486\u001b[0m \u001b[32m━━━━━━━━━━━━━━━━━━━━\u001b[0m\u001b[37m\u001b[0m \u001b[1m4s\u001b[0m 5ms/step - accuracy: 0.9123 - loss: 0.1950 - val_accuracy: 0.8763 - val_loss: 0.3791\n",
            "Epoch 22/30\n",
            "\u001b[1m486/486\u001b[0m \u001b[32m━━━━━━━━━━━━━━━━━━━━\u001b[0m\u001b[37m\u001b[0m \u001b[1m2s\u001b[0m 4ms/step - accuracy: 0.9092 - loss: 0.1952 - val_accuracy: 0.8747 - val_loss: 0.3983\n",
            "Epoch 23/30\n",
            "\u001b[1m486/486\u001b[0m \u001b[32m━━━━━━━━━━━━━━━━━━━━\u001b[0m\u001b[37m\u001b[0m \u001b[1m3s\u001b[0m 4ms/step - accuracy: 0.9103 - loss: 0.1905 - val_accuracy: 0.8704 - val_loss: 0.3894\n",
            "Epoch 24/30\n",
            "\u001b[1m486/486\u001b[0m \u001b[32m━━━━━━━━━━━━━━━━━━━━\u001b[0m\u001b[37m\u001b[0m \u001b[1m3s\u001b[0m 6ms/step - accuracy: 0.9090 - loss: 0.1918 - val_accuracy: 0.8732 - val_loss: 0.3948\n",
            "Epoch 25/30\n",
            "\u001b[1m486/486\u001b[0m \u001b[32m━━━━━━━━━━━━━━━━━━━━\u001b[0m\u001b[37m\u001b[0m \u001b[1m4s\u001b[0m 4ms/step - accuracy: 0.9195 - loss: 0.1799 - val_accuracy: 0.8771 - val_loss: 0.4035\n",
            "Epoch 26/30\n",
            "\u001b[1m486/486\u001b[0m \u001b[32m━━━━━━━━━━━━━━━━━━━━\u001b[0m\u001b[37m\u001b[0m \u001b[1m3s\u001b[0m 5ms/step - accuracy: 0.9161 - loss: 0.1783 - val_accuracy: 0.8776 - val_loss: 0.3976\n",
            "Epoch 27/30\n",
            "\u001b[1m486/486\u001b[0m \u001b[32m━━━━━━━━━━━━━━━━━━━━\u001b[0m\u001b[37m\u001b[0m \u001b[1m2s\u001b[0m 4ms/step - accuracy: 0.9184 - loss: 0.1797 - val_accuracy: 0.8742 - val_loss: 0.3894\n",
            "Epoch 28/30\n",
            "\u001b[1m486/486\u001b[0m \u001b[32m━━━━━━━━━━━━━━━━━━━━\u001b[0m\u001b[37m\u001b[0m \u001b[1m2s\u001b[0m 5ms/step - accuracy: 0.9248 - loss: 0.1672 - val_accuracy: 0.8747 - val_loss: 0.4015\n",
            "Epoch 29/30\n",
            "\u001b[1m486/486\u001b[0m \u001b[32m━━━━━━━━━━━━━━━━━━━━\u001b[0m\u001b[37m\u001b[0m \u001b[1m3s\u001b[0m 6ms/step - accuracy: 0.9202 - loss: 0.1686 - val_accuracy: 0.8722 - val_loss: 0.3991\n",
            "Epoch 30/30\n",
            "\u001b[1m486/486\u001b[0m \u001b[32m━━━━━━━━━━━━━━━━━━━━\u001b[0m\u001b[37m\u001b[0m \u001b[1m5s\u001b[0m 5ms/step - accuracy: 0.9175 - loss: 0.1693 - val_accuracy: 0.8760 - val_loss: 0.4151\n"
          ]
        }
      ]
    },
    {
      "cell_type": "code",
      "source": [
        "# Evaluate Model 2\n",
        "y_pred_2 = (model_2.predict(X_test_pca) > 0.5).astype(\"int32\")\n",
        "print(f\"Improved Model - Accuracy: {accuracy_score(y_test, y_pred_2):.4f}, Precision: {precision_score(y_test, y_pred_2):.4f}, Recall: {recall_score(y_test, y_pred_2):.4f}, F1-score: {f1_score(y_test, y_pred_2):.4f}\")"
      ],
      "metadata": {
        "colab": {
          "base_uri": "https://localhost:8080/"
        },
        "id": "AW5OZ1a2GJKK",
        "outputId": "ad86c7ac-3c4a-44f5-d06d-655423168b4e"
      },
      "execution_count": 52,
      "outputs": [
        {
          "output_type": "stream",
          "name": "stdout",
          "text": [
            "\u001b[1m122/122\u001b[0m \u001b[32m━━━━━━━━━━━━━━━━━━━━\u001b[0m\u001b[37m\u001b[0m \u001b[1m1s\u001b[0m 3ms/step\n",
            "Improved Model - Accuracy: 0.8760, Precision: 0.4929, Recall: 0.5137, F1-score: 0.5031\n"
          ]
        }
      ]
    },
    {
      "cell_type": "code",
      "source": [
        "plot_history(history2)"
      ],
      "metadata": {
        "colab": {
          "base_uri": "https://localhost:8080/",
          "height": 1000
        },
        "id": "cRlE7dDsV36J",
        "outputId": "3b803ce1-3c71-4e31-a7f9-4d50cb337592"
      },
      "execution_count": 53,
      "outputs": [
        {
          "output_type": "execute_result",
          "data": {
            "text/plain": [
              "(<Figure size 600x1200 with 2 Axes>,\n",
              " array([<Axes: title={'center': 'accuracy'}>,\n",
              "        <Axes: title={'center': 'loss'}>], dtype=object))"
            ]
          },
          "metadata": {},
          "execution_count": 53
        },
        {
          "output_type": "display_data",
          "data": {
            "text/plain": [
              "<Figure size 600x1200 with 2 Axes>"
            ],
            "image/png": "[encoded data removed]"
          },
          "metadata": {}
        }
      ]
    },
    {
      "cell_type": "code",
      "source": [
        "# Model 3: Regularized Model (L2 Regularization)\n",
        "from tensorflow.keras.regularizers import l2\n",
        "model_3 = Sequential([\n",
        "    Dense(128, activation='relu', kernel_regularizer=l2(0.001), input_shape=(X_train_pca.shape[1],)),\n",
        "    Dropout(0.3),\n",
        "    Dense(64, activation='relu', kernel_regularizer=l2(0.001)),\n",
        "    Dropout(0.2),\n",
        "    Dense(32, activation='relu'),\n",
        "    Dense(1, activation='sigmoid')\n",
        "])\n",
        "model_3.compile(optimizer=Adam(learning_rate=0.001), loss=\"binary_crossentropy\", metrics=[\"accuracy\"])\n",
        "history3 = model_3.fit(X_train_pca, y_train, epochs=30, batch_size=32, validation_data=(X_test_pca, y_test))"
      ],
      "metadata": {
        "colab": {
          "base_uri": "https://localhost:8080/"
        },
        "id": "kS9OXRkpWYlR",
        "outputId": "d28fc1a5-23a8-4dfd-aca3-d34d860f5c7f"
      },
      "execution_count": 54,
      "outputs": [
        {
          "output_type": "stream",
          "name": "stdout",
          "text": [
            "Epoch 1/30\n"
          ]
        },
        {
          "output_type": "stream",
          "name": "stderr",
          "text": [
            "/usr/local/lib/python3.11/dist-packages/keras/src/layers/core/dense.py:87: UserWarning: Do not pass an `input_shape`/`input_dim` argument to a layer. When using Sequential models, prefer using an `Input(shape)` object as the first layer in the model instead.\n",
            "  super().__init__(activity_regularizer=activity_regularizer, **kwargs)\n"
          ]
        },
        {
          "output_type": "stream",
          "name": "stdout",
          "text": [
            "\u001b[1m486/486\u001b[0m \u001b[32m━━━━━━━━━━━━━━━━━━━━\u001b[0m\u001b[37m\u001b[0m \u001b[1m6s\u001b[0m 7ms/step - accuracy: 0.8646 - loss: 0.6645 - val_accuracy: 0.8778 - val_loss: 0.5530\n",
            "Epoch 2/30\n",
            "\u001b[1m486/486\u001b[0m \u001b[32m━━━━━━━━━━━━━━━━━━━━\u001b[0m\u001b[37m\u001b[0m \u001b[1m4s\u001b[0m 6ms/step - accuracy: 0.8778 - loss: 0.5287 - val_accuracy: 0.8778 - val_loss: 0.4851\n",
            "Epoch 3/30\n",
            "\u001b[1m486/486\u001b[0m \u001b[32m━━━━━━━━━━━━━━━━━━━━\u001b[0m\u001b[37m\u001b[0m \u001b[1m4s\u001b[0m 9ms/step - accuracy: 0.8737 - loss: 0.4678 - val_accuracy: 0.8778 - val_loss: 0.4386\n",
            "Epoch 4/30\n",
            "\u001b[1m486/486\u001b[0m \u001b[32m━━━━━━━━━━━━━━━━━━━━\u001b[0m\u001b[37m\u001b[0m \u001b[1m4s\u001b[0m 8ms/step - accuracy: 0.8785 - loss: 0.4169 - val_accuracy: 0.8778 - val_loss: 0.4201\n",
            "Epoch 5/30\n",
            "\u001b[1m486/486\u001b[0m \u001b[32m━━━━━━━━━━━━━━━━━━━━\u001b[0m\u001b[37m\u001b[0m \u001b[1m4s\u001b[0m 5ms/step - accuracy: 0.8743 - loss: 0.4044 - val_accuracy: 0.8778 - val_loss: 0.4052\n",
            "Epoch 6/30\n",
            "\u001b[1m486/486\u001b[0m \u001b[32m━━━━━━━━━━━━━━━━━━━━\u001b[0m\u001b[37m\u001b[0m \u001b[1m5s\u001b[0m 6ms/step - accuracy: 0.8811 - loss: 0.3742 - val_accuracy: 0.8778 - val_loss: 0.3986\n",
            "Epoch 7/30\n",
            "\u001b[1m486/486\u001b[0m \u001b[32m━━━━━━━━━━━━━━━━━━━━\u001b[0m\u001b[37m\u001b[0m \u001b[1m2s\u001b[0m 4ms/step - accuracy: 0.8760 - loss: 0.3787 - val_accuracy: 0.8776 - val_loss: 0.4028\n",
            "Epoch 8/30\n",
            "\u001b[1m486/486\u001b[0m \u001b[32m━━━━━━━━━━━━━━━━━━━━\u001b[0m\u001b[37m\u001b[0m \u001b[1m2s\u001b[0m 4ms/step - accuracy: 0.8789 - loss: 0.3625 - val_accuracy: 0.8801 - val_loss: 0.3943\n",
            "Epoch 9/30\n",
            "\u001b[1m486/486\u001b[0m \u001b[32m━━━━━━━━━━━━━━━━━━━━\u001b[0m\u001b[37m\u001b[0m \u001b[1m2s\u001b[0m 4ms/step - accuracy: 0.8787 - loss: 0.3590 - val_accuracy: 0.8786 - val_loss: 0.3951\n",
            "Epoch 10/30\n",
            "\u001b[1m486/486\u001b[0m \u001b[32m━━━━━━━━━━━━━━━━━━━━\u001b[0m\u001b[37m\u001b[0m \u001b[1m3s\u001b[0m 4ms/step - accuracy: 0.8834 - loss: 0.3514 - val_accuracy: 0.8783 - val_loss: 0.3933\n",
            "Epoch 11/30\n",
            "\u001b[1m486/486\u001b[0m \u001b[32m━━━━━━━━━━━━━━━━━━━━\u001b[0m\u001b[37m\u001b[0m \u001b[1m3s\u001b[0m 7ms/step - accuracy: 0.8864 - loss: 0.3422 - val_accuracy: 0.8763 - val_loss: 0.4088\n",
            "Epoch 12/30\n",
            "\u001b[1m486/486\u001b[0m \u001b[32m━━━━━━━━━━━━━━━━━━━━\u001b[0m\u001b[37m\u001b[0m \u001b[1m4s\u001b[0m 4ms/step - accuracy: 0.8831 - loss: 0.3394 - val_accuracy: 0.8763 - val_loss: 0.4022\n",
            "Epoch 13/30\n",
            "\u001b[1m486/486\u001b[0m \u001b[32m━━━━━━━━━━━━━━━━━━━━\u001b[0m\u001b[37m\u001b[0m \u001b[1m3s\u001b[0m 4ms/step - accuracy: 0.8878 - loss: 0.3294 - val_accuracy: 0.8747 - val_loss: 0.4074\n",
            "Epoch 14/30\n",
            "\u001b[1m486/486\u001b[0m \u001b[32m━━━━━━━━━━━━━━━━━━━━\u001b[0m\u001b[37m\u001b[0m \u001b[1m3s\u001b[0m 4ms/step - accuracy: 0.8943 - loss: 0.3163 - val_accuracy: 0.8750 - val_loss: 0.4045\n",
            "Epoch 15/30\n",
            "\u001b[1m486/486\u001b[0m \u001b[32m━━━━━━━━━━━━━━━━━━━━\u001b[0m\u001b[37m\u001b[0m \u001b[1m3s\u001b[0m 6ms/step - accuracy: 0.8940 - loss: 0.3169 - val_accuracy: 0.8786 - val_loss: 0.4062\n",
            "Epoch 16/30\n",
            "\u001b[1m486/486\u001b[0m \u001b[32m━━━━━━━━━━━━━━━━━━━━\u001b[0m\u001b[37m\u001b[0m \u001b[1m3s\u001b[0m 6ms/step - accuracy: 0.8968 - loss: 0.3112 - val_accuracy: 0.8750 - val_loss: 0.4129\n",
            "Epoch 17/30\n",
            "\u001b[1m486/486\u001b[0m \u001b[32m━━━━━━━━━━━━━━━━━━━━\u001b[0m\u001b[37m\u001b[0m \u001b[1m4s\u001b[0m 5ms/step - accuracy: 0.8932 - loss: 0.3136 - val_accuracy: 0.8719 - val_loss: 0.4189\n",
            "Epoch 18/30\n",
            "\u001b[1m486/486\u001b[0m \u001b[32m━━━━━━━━━━━━━━━━━━━━\u001b[0m\u001b[37m\u001b[0m \u001b[1m2s\u001b[0m 4ms/step - accuracy: 0.8983 - loss: 0.3014 - val_accuracy: 0.8722 - val_loss: 0.4124\n",
            "Epoch 19/30\n",
            "\u001b[1m486/486\u001b[0m \u001b[32m━━━━━━━━━━━━━━━━━━━━\u001b[0m\u001b[37m\u001b[0m \u001b[1m2s\u001b[0m 4ms/step - accuracy: 0.8996 - loss: 0.2940 - val_accuracy: 0.8773 - val_loss: 0.4147\n",
            "Epoch 20/30\n",
            "\u001b[1m486/486\u001b[0m \u001b[32m━━━━━━━━━━━━━━━━━━━━\u001b[0m\u001b[37m\u001b[0m \u001b[1m3s\u001b[0m 6ms/step - accuracy: 0.8997 - loss: 0.3029 - val_accuracy: 0.8750 - val_loss: 0.4195\n",
            "Epoch 21/30\n",
            "\u001b[1m486/486\u001b[0m \u001b[32m━━━━━━━━━━━━━━━━━━━━\u001b[0m\u001b[37m\u001b[0m \u001b[1m4s\u001b[0m 4ms/step - accuracy: 0.8950 - loss: 0.2965 - val_accuracy: 0.8796 - val_loss: 0.4151\n",
            "Epoch 22/30\n",
            "\u001b[1m486/486\u001b[0m \u001b[32m━━━━━━━━━━━━━━━━━━━━\u001b[0m\u001b[37m\u001b[0m \u001b[1m3s\u001b[0m 4ms/step - accuracy: 0.9003 - loss: 0.2895 - val_accuracy: 0.8729 - val_loss: 0.4290\n",
            "Epoch 23/30\n",
            "\u001b[1m486/486\u001b[0m \u001b[32m━━━━━━━━━━━━━━━━━━━━\u001b[0m\u001b[37m\u001b[0m \u001b[1m2s\u001b[0m 4ms/step - accuracy: 0.9009 - loss: 0.2911 - val_accuracy: 0.8786 - val_loss: 0.4334\n",
            "Epoch 24/30\n",
            "\u001b[1m486/486\u001b[0m \u001b[32m━━━━━━━━━━━━━━━━━━━━\u001b[0m\u001b[37m\u001b[0m \u001b[1m3s\u001b[0m 5ms/step - accuracy: 0.9030 - loss: 0.2833 - val_accuracy: 0.8747 - val_loss: 0.4222\n",
            "Epoch 25/30\n",
            "\u001b[1m486/486\u001b[0m \u001b[32m━━━━━━━━━━━━━━━━━━━━\u001b[0m\u001b[37m\u001b[0m \u001b[1m3s\u001b[0m 7ms/step - accuracy: 0.9027 - loss: 0.2811 - val_accuracy: 0.8729 - val_loss: 0.4282\n",
            "Epoch 26/30\n",
            "\u001b[1m486/486\u001b[0m \u001b[32m━━━━━━━━━━━━━━━━━━━━\u001b[0m\u001b[37m\u001b[0m \u001b[1m4s\u001b[0m 5ms/step - accuracy: 0.8997 - loss: 0.2839 - val_accuracy: 0.8742 - val_loss: 0.4339\n",
            "Epoch 27/30\n",
            "\u001b[1m486/486\u001b[0m \u001b[32m━━━━━━━━━━━━━━━━━━━━\u001b[0m\u001b[37m\u001b[0m \u001b[1m2s\u001b[0m 4ms/step - accuracy: 0.9035 - loss: 0.2769 - val_accuracy: 0.8753 - val_loss: 0.4360\n",
            "Epoch 28/30\n",
            "\u001b[1m486/486\u001b[0m \u001b[32m━━━━━━━━━━━━━━━━━━━━\u001b[0m\u001b[37m\u001b[0m \u001b[1m3s\u001b[0m 4ms/step - accuracy: 0.9021 - loss: 0.2746 - val_accuracy: 0.8776 - val_loss: 0.4507\n",
            "Epoch 29/30\n",
            "\u001b[1m486/486\u001b[0m \u001b[32m━━━━━━━━━━━━━━━━━━━━\u001b[0m\u001b[37m\u001b[0m \u001b[1m3s\u001b[0m 6ms/step - accuracy: 0.9033 - loss: 0.2756 - val_accuracy: 0.8765 - val_loss: 0.4227\n",
            "Epoch 30/30\n",
            "\u001b[1m486/486\u001b[0m \u001b[32m━━━━━━━━━━━━━━━━━━━━\u001b[0m\u001b[37m\u001b[0m \u001b[1m4s\u001b[0m 4ms/step - accuracy: 0.9026 - loss: 0.2759 - val_accuracy: 0.8791 - val_loss: 0.4356\n"
          ]
        }
      ]
    },
    {
      "cell_type": "code",
      "source": [
        "# Evaluate Model 3\n",
        "y_pred_3 = (model_3.predict(X_test_pca) > 0.5).astype(\"int32\")\n",
        "print(f\"Regularized Model - Accuracy: {accuracy_score(y_test, y_pred_3):.4f}, Precision: {precision_score(y_test, y_pred_3):.4f}, Recall: {recall_score(y_test, y_pred_3):.4f}, F1-score: {f1_score(y_test, y_pred_3):.4f}\")"
      ],
      "metadata": {
        "colab": {
          "base_uri": "https://localhost:8080/"
        },
        "id": "zrs5B8bvWYn1",
        "outputId": "546f93af-466c-44f8-fe9c-12c5d8c3ecb8"
      },
      "execution_count": 55,
      "outputs": [
        {
          "output_type": "stream",
          "name": "stdout",
          "text": [
            "\u001b[1m122/122\u001b[0m \u001b[32m━━━━━━━━━━━━━━━━━━━━\u001b[0m\u001b[37m\u001b[0m \u001b[1m0s\u001b[0m 2ms/step\n",
            "Regularized Model - Accuracy: 0.8791, Precision: 0.5098, Recall: 0.2737, F1-score: 0.3562\n"
          ]
        }
      ]
    },
    {
      "cell_type": "code",
      "source": [
        "plot_history(history3)"
      ],
      "metadata": {
        "colab": {
          "base_uri": "https://localhost:8080/",
          "height": 1000
        },
        "id": "WFMIV91WWYtP",
        "outputId": "72595207-6c4d-4185-88f6-fa9ad4ddf8f6"
      },
      "execution_count": 56,
      "outputs": [
        {
          "output_type": "execute_result",
          "data": {
            "text/plain": [
              "(<Figure size 600x1200 with 2 Axes>,\n",
              " array([<Axes: title={'center': 'accuracy'}>,\n",
              "        <Axes: title={'center': 'loss'}>], dtype=object))"
            ]
          },
          "metadata": {},
          "execution_count": 56
        },
        {
          "output_type": "display_data",
          "data": {
            "text/plain": [
              "<Figure size 600x1200 with 2 Axes>"
            ],
            "image/png": "[encoded data removed]"
          },
          "metadata": {}
        }
      ]
    }
  ],
  "metadata": {
    "colab": {
      "provenance": [],
      "mount_file_id": "1fScFLEIXZgLtcs0k7RHYZhThUSpDmSP9",
      "authorship_tag": "ABX9TyOaJ4R+XYZ7MMcBBTsaK5Cl",
      "include_colab_link": true
    },
    "kernelspec": {
      "display_name": "Python 3 (ipykernel)",
      "language": "python",
      "name": "python3"
    },
    "language_info": {
      "codemirror_mode": {
        "name": "ipython",
        "version": 3
      },
      "file_extension": ".py",
      "mimetype": "text/x-python",
      "name": "python",
      "nbconvert_exporter": "python",
      "pygments_lexer": "ipython3",
      "version": "3.9.21"
    }
  },
  "nbformat": 4,
  "nbformat_minor": 0
}